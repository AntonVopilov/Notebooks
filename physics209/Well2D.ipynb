{
 "cells": [
  {
   "cell_type": "code",
   "execution_count": null,
   "metadata": {},
   "outputs": [],
   "source": [
    "import numpy as np\n",
    "import matplotlib.pyplot as plt\n",
    "%matplotlib inline"
   ]
  },
  {
   "cell_type": "markdown",
   "metadata": {},
   "source": [
    "## Well in 2D ##\n",
    "\n",
    "In class we considered the problem of a 2D well, running from $x=0$ to $x=a$, and from $y=0$ to $y=\\infty$, with the sides held at zero potential and the bottom (at $y=0$) held at fixed potential $V$.\n",
    "\n",
    "We solved this problem using separation of variables in Cartesian coordinates, obtaining a Fourier (sine) series:\n",
    "$$\n",
    "  \\Phi(x,y) = \\sum_{n=1}^\\infty  A_n \\sin\\frac{n\\pi x}{a} e^{-n\\pi y/a}\n",
    "$$\n",
    "The boundary condition at $y=0$ gave\n",
    "$$\n",
    "  A_n = \\frac{2V}{a}\\int_0^a dx\\ \\sin\\frac{n\\pi x}{a} = \\frac{4V}{n\\pi}\n",
    "  \\quad\\textrm{for odd }n\\textrm{ else 0}\n",
    "$$\n",
    "\n",
    "Let us consider doing this sum numerically."
   ]
  },
  {
   "cell_type": "code",
   "execution_count": null,
   "metadata": {},
   "outputs": [],
   "source": [
    "# First we do this by brute force, since it's actually pretty simple.\n",
    "def Phi_brute_force(x,y,Nmax=10):\n",
    "    \"\"\"Returns the sum for Phi(x,y), up to Nmax.  Assumes V=a=1, or if\n",
    "       you prefer specify x and y in units of a and get a result in units of V.\"\"\"\n",
    "    # Do this each time... kind of wasteful, but...\n",
    "    nn = np.arange(Nmax+1)\n",
    "    An = 4/np.pi/(nn+1e-10)\n",
    "    An[::2] = 0.0  # Zero the even An.\n",
    "    Phi = np.sum(An*np.sin(nn*np.pi*x)*np.exp(-nn*np.pi*y))\n",
    "    return(Phi)"
   ]
  },
  {
   "cell_type": "code",
   "execution_count": null,
   "metadata": {},
   "outputs": [],
   "source": [
    "# Now make a figure plotting this for two values of Nmax.\n",
    "# Do this with loops, to make the logic clearer even though that isn't very Pythonic.\n",
    "Nx,Ny = 100,100\n",
    "xx,yy = np.linspace(0,1,Nx),np.linspace(0,0.75,Ny)    \n",
    "PhiL,PhiR = np.zeros( (Nx,Ny) ),np.zeros( (Nx,Ny) )\n",
    "for ix in range(Nx):\n",
    "    for iy in range(Ny):\n",
    "        PhiL[ix,iy] = Phi_brute_force(xx[ix],yy[iy],Nmax=5)\n",
    "        PhiR[ix,iy] = Phi_brute_force(xx[ix],yy[iy],Nmax=500)\n",
    "fig,ax = plt.subplots(1,2,sharey=True,figsize=(12,6))\n",
    "ax[0].imshow(PhiL.T,origin='lower',extent=[xx[0],xx[-1],yy[0],yy[-1]],vmin=0,vmax=1.,aspect='equal')\n",
    "ax[1].imshow(PhiR.T,origin='lower',extent=[xx[0],xx[-1],yy[0],yy[-1]],vmin=0,vmax=1.,aspect='equal')\n",
    "ax[0].set_xlabel(r'$x/a$',fontsize=18)\n",
    "ax[1].set_xlabel(r'$x/a$',fontsize=18)\n",
    "ax[0].set_ylabel(r'$y/a$',fontsize=18)"
   ]
  },
  {
   "cell_type": "markdown",
   "metadata": {},
   "source": [
    "Note the convergence of the solution is more rapid at high $y$ than at low, completely as expected.  When we have Nmax=5 only 3 terms contribute, so the approximation for low $y$ shows the oscillations from the sine sum quite clearly.  This is less true for Nmax=500."
   ]
  },
  {
   "cell_type": "markdown",
   "metadata": {},
   "source": [
    "## Convergence near y=0 ##\n",
    "\n",
    "We can study the convergence near $y=0$ more quantitatively.  Let's choose $y=0.05\\,a$ and plot $\\Phi(0.25,0.05,N_{\\rm max})$ vs.~$N_{\\rm max}$."
   ]
  },
  {
   "cell_type": "code",
   "execution_count": null,
   "metadata": {},
   "outputs": [],
   "source": [
    "Nmax = np.rint(np.logspace(1.0,2.2,50))\n",
    "PhiV = np.array([Phi_brute_force(0.25,0.05,int(nn)) for nn in Nmax])\n",
    "# Plot the fractional error, using the last value as \"truth\".\n",
    "fig,ax = plt.subplots(1,1,figsize=(10,4))\n",
    "ax.plot(Nmax[:-1],np.abs(PhiV[:-1]/PhiV[-1]-1),'k-')\n",
    "ax.set_xscale('log')\n",
    "ax.set_yscale('log')\n",
    "ax.set_xlabel(r'$N_{\\rm max}$',fontsize=18)\n",
    "ax.set_ylabel(r'$\\left| \\Phi_N / \\Phi_\\infty - 1\\right|$',fontsize=18)"
   ]
  },
  {
   "cell_type": "markdown",
   "metadata": {},
   "source": [
    "## Apodization ##\n",
    "\n",
    "Note that we see some \"ringing\" structure in the figure above due to the periodicity of $\\sin(n\\pi x/a)$.  We could smooth this by apodizing the sum, i.e. multiplying by a window that smoothly goes to zero at the first omitted term.  Let's modify our brute force sum routine to include such a factor.  I've chosen $\\cos(n\\pi/2n_{\\rm max})$ but many other choices are possible."
   ]
  },
  {
   "cell_type": "code",
   "execution_count": null,
   "metadata": {},
   "outputs": [],
   "source": [
    "# Include apodization.\n",
    "def Phi_apodized(x,y,Nmax=10):\n",
    "    \"\"\"Returns the sum for Phi(x,y), up to Nmax.  Assumes V=a=1, or if\n",
    "       you prefer specify x and y in units of a and get a result in units of V.\"\"\"\n",
    "    # Do this each time... kind of wasteful, but...\n",
    "    nn  = np.arange(Nmax+1)\n",
    "    An  = 4/np.pi/(nn+1e-10)\n",
    "    An[::2] = 0.0  # Zero the even An.\n",
    "    ap  = np.cos( nn/(Nmax+1.) * np.pi/2.)  # For now!\n",
    "    Phi = np.sum(An*np.sin(nn*np.pi*x)*np.exp(-nn*np.pi*y) * ap)\n",
    "    return(Phi)"
   ]
  },
  {
   "cell_type": "code",
   "execution_count": null,
   "metadata": {},
   "outputs": [],
   "source": [
    "Nmax = np.rint(np.logspace(1.0,2.2,50))\n",
    "PhiV = np.array([Phi_apodized(0.25,0.05,int(nn)) for nn in Nmax])\n",
    "# Plot the fractional error, using the last value as \"truth\".\n",
    "fig,ax = plt.subplots(1,1,figsize=(10,4))\n",
    "ax.plot(Nmax[:-1],np.abs(PhiV[:-1]/PhiV[-1]-1),'k-')\n",
    "ax.set_xscale('log')\n",
    "ax.set_yscale('log')\n",
    "ax.set_xlabel(r'$N_{\\rm max}$',fontsize=18)\n",
    "ax.set_ylabel(r'$\\left| \\Phi_N / \\Phi_\\infty - 1\\right|$',fontsize=18)"
   ]
  },
  {
   "cell_type": "markdown",
   "metadata": {},
   "source": [
    "## Series acceleration ##\n",
    "\n",
    "This problem is not really complex enough to require series acceleration, but let's consider one simple variant."
   ]
  },
  {
   "cell_type": "markdown",
   "metadata": {},
   "source": [
    "## Modify the BC ##\n",
    "\n",
    "Finally let's consider a modification of the boundary condition at $y=0$.  We'll choose a triangle rising linearly from $V=0$ at $x=0$ to $V=1$ at $x=a/2$ and falling linearly back to $V=0$ by $x=a$.  It's not hard to compute the $A_n$ in this case, but let's have the computer do it for us. "
   ]
  },
  {
   "cell_type": "code",
   "execution_count": null,
   "metadata": {},
   "outputs": [],
   "source": [
    "# Compute the A_n coefficients for a triangle.  Pretend at first\n",
    "# we've never heard of the Fast Fourier Transform and we don't know\n",
    "# that this problem can be solved analytically!\n",
    "def compute_An(Nmax):\n",
    "    \"\"\"Compute the A_n by brute force.\"\"\"\n",
    "    An = np.zeros(Nmax+1)\n",
    "    x1 = np.linspace(0,0.5,500)\n",
    "    x2 = np.linspace(0.5,1,500)\n",
    "    for n in range(Nmax+1):\n",
    "        An[n] = 2*np.trapz( np.sin(n*np.pi*x1)*2*(  x1), x=x1 )+\\\n",
    "                2*np.trapz( np.sin(n*np.pi*x2)*2*(1-x2), x=x2 )\n",
    "    return(An)\n",
    "#\n",
    "def Phi_given_An(x,y,An):\n",
    "    \"\"\"Returns the sum for Phi(x,y), given An.\"\"\"\n",
    "    nn  = np.arange(An.size)\n",
    "    Phi = np.sum(An*np.sin(nn*np.pi*x)*np.exp(-nn*np.pi*y))\n",
    "    return(Phi)"
   ]
  },
  {
   "cell_type": "code",
   "execution_count": null,
   "metadata": {},
   "outputs": [],
   "source": [
    "# First plot the A_n, just to ensure they're what we expect.\n",
    "An = compute_An(50)\n",
    "nn = np.arange(An.size)\n",
    "fig,ax = plt.subplots(1,1,figsize=(10,5))\n",
    "ax.plot(nn,np.abs(An)+1e-7,'k-')\n",
    "ax.plot(nn[1:],1./nn[1:]**2,'c:')\n",
    "ax.set_yscale('log')\n",
    "ax.set_xlabel(r'$n$',fontsize=18)\n",
    "ax.set_ylabel(r'$A_n$',fontsize=18)"
   ]
  },
  {
   "cell_type": "code",
   "execution_count": null,
   "metadata": {},
   "outputs": [],
   "source": [
    "# Now make a figure plotting this for two values of Nmax.\n",
    "Nx,Ny = 100,100\n",
    "xx,yy = np.linspace(0,1,Nx),np.linspace(0,0.5,Ny)    \n",
    "PhiL,PhiR = np.zeros( (Nx,Ny) ),np.zeros( (Nx,Ny) )\n",
    "An  = compute_An(500)\n",
    "for ix in range(Nx):\n",
    "    for iy in range(Ny):\n",
    "        PhiL[ix,iy] = Phi_given_An(xx[ix],yy[iy],An[:5])\n",
    "        PhiR[ix,iy] = Phi_given_An(xx[ix],yy[iy],An)\n",
    "fig,ax = plt.subplots(1,2,sharey=True,figsize=(12,6))\n",
    "ax[0].imshow(PhiL.T,origin='lower',extent=[xx[0],xx[-1],yy[0],yy[-1]],vmin=0,vmax=1.,aspect='equal')\n",
    "ax[1].imshow(PhiR.T,origin='lower',extent=[xx[0],xx[-1],yy[0],yy[-1]],vmin=0,vmax=1.,aspect='equal')\n",
    "ax[0].set_xlabel(r'$x/a$',fontsize=18)\n",
    "ax[1].set_xlabel(r'$x/a$',fontsize=18)\n",
    "ax[0].set_ylabel(r'$y/a$',fontsize=18)"
   ]
  },
  {
   "cell_type": "code",
   "execution_count": null,
   "metadata": {},
   "outputs": [],
   "source": [
    "# For extra fun, what if we did this with a Discrete Sine Transform?\n",
    "xx = np.linspace(0,1,1024)\n",
    "VV = np.zeros_like(xx)\n",
    "VV[xx<0.5] = 2*xx[xx<0.5]\n",
    "VV[xx>0.5] = 2*(1-xx[xx>0.5])\n",
    "# We don't really want to plot/play with 1024 values so trim it ...\n",
    "from scipy.fftpack import dst\n",
    "An = (dst(VV)/float(xx.size))[:64]\n",
    "nn = np.arange(An.size)\n",
    "#\n",
    "fig,ax = plt.subplots(1,1,figsize=(10,5))\n",
    "ax.plot(nn,np.abs(An)+1e-7,'k-')\n",
    "ax.plot(nn[1:],1./nn[1:]**2,'c:')\n",
    "ax.set_yscale('log')\n",
    "ax.set_xlabel(r'$n$',fontsize=18)\n",
    "ax.set_ylabel(r'$A_n$',fontsize=18)"
   ]
  }
 ],
 "metadata": {
  "kernelspec": {
   "display_name": "Python 3",
   "language": "python",
   "name": "python3"
  },
  "language_info": {
   "codemirror_mode": {
    "name": "ipython",
    "version": 3
   },
   "file_extension": ".py",
   "mimetype": "text/x-python",
   "name": "python",
   "nbconvert_exporter": "python",
   "pygments_lexer": "ipython3",
   "version": "3.6.7"
  }
 },
 "nbformat": 4,
 "nbformat_minor": 2
}
