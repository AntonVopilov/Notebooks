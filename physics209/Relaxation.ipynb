{
 "cells": [
  {
   "cell_type": "code",
   "execution_count": null,
   "metadata": {},
   "outputs": [],
   "source": [
    "import numpy as np\n",
    "import matplotlib.pyplot as plt\n",
    "%matplotlib inline"
   ]
  },
  {
   "cell_type": "markdown",
   "metadata": {},
   "source": [
    "## Relaxtion ##\n",
    "\n",
    "A simple code \"example\" of the relaxation method.\n",
    "Solves $d^2\\Phi/dx^2 = 0$ with $\\Phi(0)=1$ and $\\Phi(1)=0$ using what is possibly the simplest iteration scheme.\n",
    "\n",
    "Discretize the spatial coordinate ($x$) on a regular grid: $x_i=ih$ with $i$ ($0\\le i\\le N$) an integer, $h=1/N$ and $N+1$ the number of grid points.\n",
    "We start with the 1D version of\n",
    "$$\n",
    "  \\nabla^2\\Phi = f \\quad{\\rm with}\\quad\n",
    "  \\nabla^2\\Phi \\approx \\frac{\\Phi(x+h)-2\\Phi(x)+\\Phi(x-h)}{h^2}\n",
    "$$\n",
    "with $f=-4\\pi\\rho=0$ for all interior points $0<i<N$.  By rewriting the Poisson equation as\n",
    "$$\n",
    "  \\Phi_i = \\frac{1}{2}\\left( \\Phi_{i+1} + \\Phi_{i-1} - h^2f_i \\right)\n",
    "$$\n",
    "we get an iterative method for solution."
   ]
  },
  {
   "cell_type": "code",
   "execution_count": null,
   "metadata": {},
   "outputs": [],
   "source": [
    "def solve(phi0=1,phi1=0,n=10,Niter=50,verbose=False):\n",
    "    \"\"\"A not-very-optimized but (hopefully) easy to read relaxation code.\"\"\"\n",
    "    hh      = 1.0/float(n)\n",
    "    xi      = np.linspace(0,1,n+1)\n",
    "    ff      = np.zeros(n+1)\n",
    "    phi     = np.zeros(n+1)\n",
    "    phi[ 0] = phi0\n",
    "    phi[-1] = phi1\n",
    "    #\n",
    "    for iter in range(Niter):\n",
    "        phi_old = phi\n",
    "        for i in range(1,n):\n",
    "          phi[i] = 0.5*(phi_old[i-1]+phi_old[i+1]-hh**2*ff[i])\n",
    "        if verbose:\n",
    "            print(phi)\n",
    "    #\n",
    "    exact = 1-xi\n",
    "    return( (phi,exact) )\n",
    "    #"
   ]
  },
  {
   "cell_type": "code",
   "execution_count": null,
   "metadata": {},
   "outputs": [],
   "source": [
    "phi,exact = solve(Niter=25)\n",
    "for i in range(phi.size):\n",
    "        print(\"{:3d} {:10.5f} {:10.5f} {:10.3f}\".format(i,phi[i],exact[i],\\\n",
    "          100.*(phi[i]-exact[i])/(exact[i]+1e-10)))"
   ]
  },
  {
   "cell_type": "markdown",
   "metadata": {},
   "source": [
    "Let's look at the error as a function of the number of iterations, for 10 grid points."
   ]
  },
  {
   "cell_type": "code",
   "execution_count": null,
   "metadata": {},
   "outputs": [],
   "source": [
    "n=10\n",
    "fig,ax = plt.subplots(2,1,figsize=(10,7),sharex=True)\n",
    "phi,exact = solve(n=n,Niter=1)\n",
    "xx = np.linspace(0.,1.,phi.size,endpoint=True)\n",
    "ax[0].plot(xx,exact,'k--',label='Exact')\n",
    "for Niter in [10,20,50]:\n",
    "    phi,exact = solve(n=n,Niter=Niter)\n",
    "    ax[0].plot(xx,phi,':',label=\"Relax($N={:3d}$)\".format(Niter))\n",
    "    ax[1].plot(xx[:-1],(100.*(phi-exact)/(exact+1e-10))[:-1],'-')\n",
    "ax[0].legend()\n",
    "ax[0].set_ylabel(r'$\\Phi(x)$')\n",
    "ax[1].set_ylabel(r'Error (%)')\n",
    "ax[1].set_xlabel(r'$x$')"
   ]
  },
  {
   "cell_type": "markdown",
   "metadata": {},
   "source": [
    "Now let's look at how the rate of convergence slows down as we increase the number of grid points."
   ]
  },
  {
   "cell_type": "code",
   "execution_count": null,
   "metadata": {},
   "outputs": [],
   "source": [
    "n=50\n",
    "fig,ax = plt.subplots(2,1,figsize=(10,7),sharex=True)\n",
    "phi,exact = solve(n=n,Niter=1)\n",
    "xx = np.linspace(0.,1.,phi.size,endpoint=True)\n",
    "ax[0].plot(xx,exact,'k--',label='Exact')\n",
    "for Niter in [250,500,1000]:\n",
    "    phi,exact = solve(n=n,Niter=Niter)\n",
    "    ax[0].plot(xx,phi,':',label=\"Relax($N={:3d}$)\".format(Niter))\n",
    "    ax[1].plot(xx[:-1],(100.*(phi-exact)/(exact+1e-10))[:-1],'-')\n",
    "ax[0].legend()\n",
    "ax[0].set_ylabel(r'$\\Phi(x)$')\n",
    "ax[1].set_ylabel(r'Error (%)')\n",
    "ax[1].set_xlabel(r'$x$')"
   ]
  },
  {
   "cell_type": "markdown",
   "metadata": {},
   "source": [
    "One can study the rate of convergence analytically, and then devise methods to accelerate the convergence of the modes which converge the slowest -- this leads to \"multigrid\", which is one of the most useful techniques for solving PDEs on a grid (especially in the era of massively parallel computing since one can frequently efficiently interleave communication and computation).\n",
    "\n",
    "A useful introduction to multigrid methods is the slim volume [\"A multigrid tutorial\" by Briggs, et al.](https://www.amazon.com/Multigrid-Tutorial-William-L-Briggs/dp/0898714621)."
   ]
  }
 ],
 "metadata": {
  "kernelspec": {
   "display_name": "Python 3",
   "language": "python",
   "name": "python3"
  },
  "language_info": {
   "codemirror_mode": {
    "name": "ipython",
    "version": 3
   },
   "file_extension": ".py",
   "mimetype": "text/x-python",
   "name": "python",
   "nbconvert_exporter": "python",
   "pygments_lexer": "ipython3",
   "version": "3.6.7"
  }
 },
 "nbformat": 4,
 "nbformat_minor": 2
}
