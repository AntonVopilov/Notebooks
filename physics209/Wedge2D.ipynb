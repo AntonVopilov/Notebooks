{
 "cells": [
  {
   "cell_type": "code",
   "execution_count": null,
   "metadata": {},
   "outputs": [],
   "source": [
    "import numpy as np\n",
    "import matplotlib.pyplot as plt\n",
    "%matplotlib inline"
   ]
  },
  {
   "cell_type": "markdown",
   "metadata": {},
   "source": [
    "## The problem setup ##\n",
    "\n",
    "Consider a 2D electrostatics problem that we looked at in class: $\\nabla^2\\Phi=0$ in polar coordinates with $\\Phi=0$ at $\\theta=0$ and $\\theta=\\beta$ and $\\Phi(r=R,\\theta)=V(\\theta)$ specified.  In polar coordinates\n",
    "$$\n",
    "  \\frac{1}{r}\\frac{d}{dr}\\left(r\\frac{d}{dr} \\Phi\\right) + \\frac{1}{r^2}\\frac{d^2\\Phi}{d\\theta^2} = 0\n",
    "$$\n",
    "We try separation of variables and find the solution is power-laws times trig functions.  The boundary conditions remove the negative powers of $r$ and the cosine.  Thus\n",
    "$$\n",
    "  \\Phi(r,\\theta) = \\sum_{m=1}^\\infty a_m r^{\\nu_m}\\sin\\nu_m\\theta\n",
    "  \\quad , \\quad \\nu_m\\equiv\\frac{m\\pi}{\\beta}\n",
    "$$\n",
    "In class we didn't specify $a_m$, but here we will solve for it using a boundary condition at $r=R$, i.e. $V(\\theta)$.  Let's choose units where $R=1$ to simplify our lives and imagine\n",
    "$$\n",
    "  V(\\theta) = \\left\\{ \\begin{array}{cc} \\theta/\\beta & 0\\le\\theta\\le\\beta/2 \\\\\n",
    "  1-\\theta/\\beta & \\beta/2\\le\\theta\\le\\beta \\end{array}\\right.\n",
    "$$\n",
    "A little notation helps.  Let $x=\\theta/\\beta$, so our function is $x$ up to $x=1/2$ and $1-x$ between $x=1/2$ and $x=1$.  Similarly our series expansion at $r=1$ is\n",
    "$$\n",
    "  V(x) = \\sum_{n=1}^\\infty a_n \\sin n\\pi x \\quad\\Rightarrow\\quad\n",
    "  a_n  = 2\\int_0^1 dx\\ V(x)\\sin n\\pi x\n",
    "       = \\frac{4\\sin(n\\pi/2)-2\\sin(n\\pi)}{n^2\\pi^2}\n",
    "$$\n",
    "where in the last step we have written easier to code versions of $(-1)^{(n-1)/2}$ with even and odd $n$ selection."
   ]
  },
  {
   "cell_type": "code",
   "execution_count": null,
   "metadata": {},
   "outputs": [],
   "source": [
    "Nmax = 500\n",
    "nn   = np.arange( Nmax )\n",
    "An   = (4*np.sin(nn*np.pi/2)-2*np.sin(nn*np.pi))/(nn**2*np.pi**2 + 1e-30)\n",
    "xx   = np.linspace(0,1,100)\n",
    "VV   = [np.sum(An*np.sin(nn*np.pi*x)) for x in xx]\n",
    "# Put in a sanity check.\n",
    "fig,ax = plt.subplots(1,1,figsize=(10,6))\n",
    "ax.plot(xx,VV)"
   ]
  },
  {
   "cell_type": "markdown",
   "metadata": {},
   "source": [
    "Now let's make a plot of the solution in the domain $0\\le r\\le 1$ and $0\\le\\theta\\le\\beta$."
   ]
  },
  {
   "cell_type": "code",
   "execution_count": null,
   "metadata": {},
   "outputs": [],
   "source": [
    "def Phi(r,theta,beta,Nmax):\n",
    "    \"\"\"Does the sum to give Phi.\"\"\"\n",
    "    nn = np.arange( Nmax )\n",
    "    nu = nn*np.pi/beta\n",
    "    An = (4*np.sin(nn*np.pi/2)-2*np.sin(nn*np.pi))/(nn**2*np.pi**2 + 1e-30)\n",
    "    pp = np.sum( An*r**nu*np.sin(nu*theta))\n",
    "    return(pp)\n",
    "# We'll do this here by brute force for readability... check out one way\n",
    "# using numpy's \"einsum\" function below.\n",
    "beta  = np.pi/4\n",
    "rr,tt = np.meshgrid(np.linspace(0,1,100),np.linspace(0,beta,100),indexing='ij')\n",
    "PhiV  = np.zeros_like(rr)\n",
    "for ix in range(PhiV.shape[0]):\n",
    "    for iy in range(PhiV.shape[1]):\n",
    "        PhiV[ix,iy] = Phi(rr[ix,iy],tt[ix,iy],beta,100)\n",
    "print(\"Phi in range \",np.min(PhiV),np.max(PhiV))\n",
    "# Make a color figure of Phi.\n",
    "fig,ax = plt.subplots(1,1,figsize=(10,6))\n",
    "ax.imshow(np.arcsinh(20*PhiV.T),extent=[0,1,0,1],vmin=0,vmax=3)\n",
    "ax.set_xlabel(r'$r$',fontsize=18)\n",
    "ax.set_ylabel(r'$\\theta/\\beta$',fontsize=18)"
   ]
  },
  {
   "cell_type": "markdown",
   "metadata": {},
   "source": [
    "For completeness sake, here's a less readable but more Pythonic way of doing this:\n",
    "```python\n",
    "rr  = np.linspace(0, 1, 100)\n",
    "tt  = np.linspace(0, beta, 100)\n",
    "nu  = nn*np.pi/beta\n",
    "An  = (4*np.sin(nn*np.pi/2)-2*np.sin(nn*np.pi))/(nn**2*np.pi**2+1e-30)\n",
    "PhiV= np.einsum('i,ji,ki->jk',An,rr[:,None]**nu[None,:],np.sin(tt[:,None]*nu[None,:]))\n",
    "```"
   ]
  },
  {
   "cell_type": "markdown",
   "metadata": {},
   "source": [
    "Studying convergence of the solution, Runge phenomenon, apodization, series acceleration?  Finite difference?  Variational methods?  Multigrid relaxation?  Finite elements?"
   ]
  }
 ],
 "metadata": {
  "kernelspec": {
   "display_name": "Python 3",
   "language": "python",
   "name": "python3"
  },
  "language_info": {
   "codemirror_mode": {
    "name": "ipython",
    "version": 3
   },
   "file_extension": ".py",
   "mimetype": "text/x-python",
   "name": "python",
   "nbconvert_exporter": "python",
   "pygments_lexer": "ipython3",
   "version": "3.6.7"
  }
 },
 "nbformat": 4,
 "nbformat_minor": 2
}
