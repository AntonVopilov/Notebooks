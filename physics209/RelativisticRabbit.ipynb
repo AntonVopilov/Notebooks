{
 "cells": [
  {
   "cell_type": "code",
   "execution_count": null,
   "metadata": {},
   "outputs": [],
   "source": [
    "import numpy as np\n",
    "import matplotlib.pyplot as plt\n",
    "%matplotlib inline"
   ]
  },
  {
   "cell_type": "markdown",
   "metadata": {},
   "source": [
    "##  Relativistic rabbit ##\n",
    "\n",
    "The \"classic\" pursuit problem with a relativistic twist: A dog is chasing a (relativistic) rabbit. Its strategy is to always head directly towards where it sees the rabbit to be.\n",
    "\n",
    "Let the rabbit and dog's speeds be w and v respectively, and work in an intertial frame with time t."
   ]
  },
  {
   "cell_type": "code",
   "execution_count": null,
   "metadata": {},
   "outputs": [],
   "source": [
    "def rabbit(t,w=0.8,a=1.0):\n",
    "    \"\"\"Returns the position of the rabbit at t.\"\"\"\n",
    "    return( (a,w*t) )\n",
    "    #"
   ]
  },
  {
   "cell_type": "code",
   "execution_count": null,
   "metadata": {},
   "outputs": [],
   "source": [
    "def find_tau(x,y,t):\n",
    "    \"\"\"Numerically solve for tau given the dog's position and t.\"\"\"\n",
    "    # Use bisection -- a little clunky but fast enough for us.\n",
    "    taulo,tauhi = -100.0,t+1.\n",
    "    xi,eta = rabbit(taulo)\n",
    "    flo    = (x-xi)**2+(y-eta)**2 - (t-taulo)**2\n",
    "    xi,eta = rabbit(tauhi)\n",
    "    fhi    = (x-xi)**2+(y-eta)**2 - (t-tauhi)**2\n",
    "    while tauhi-taulo>1e-4:\n",
    "        taumid = (taulo + tauhi)/2.0\n",
    "        xi,eta = rabbit(taumid)\n",
    "        fmid   = (x-xi)**2+(y-eta)**2 - (t-taumid)**2\n",
    "        if flo*fmid<0:\n",
    "            tauhi,fhi = taumid,fmid\n",
    "        else:\n",
    "            taulo,flo = taumid,fmid\n",
    "    return(taumid)\n",
    "    #"
   ]
  },
  {
   "cell_type": "code",
   "execution_count": null,
   "metadata": {},
   "outputs": [],
   "source": [
    "def derivs(x,y,t,dt,v=0.975):\n",
    "    \"\"\"Solve for the velocity of the dog.\"\"\"\n",
    "    tau    = find_tau(x,y,t)\n",
    "    xi,eta = rabbit(tau)\n",
    "    if np.abs(x-xi)<1e-6:\n",
    "        # Motion is now vertical.\n",
    "        dxdt = 0.0\n",
    "        dydt = v\n",
    "    else:\n",
    "        # Get ratios for dy/dx, starting with dx=1.\n",
    "        dydt = (y-eta)/(x-xi)\n",
    "        # Now normalize to length v.\n",
    "        scale      = v/np.sqrt(1.0+dydt**2)\n",
    "        dxdt,dydt  = scale,dydt*scale\n",
    "    return( (dxdt,dydt,tau) )\n",
    "    #"
   ]
  },
  {
   "cell_type": "code",
   "execution_count": null,
   "metadata": {},
   "outputs": [],
   "source": [
    "# Now plot a path.\n",
    "fig,ax = plt.subplots(1,1,figsize=(10,6))\n",
    "# We could solve the ODEs using one of the built-in solvers, but we're just\n",
    "# going to use Euler's method for now and take really tiny steps.  Highly\n",
    "# inefficient, but ...\n",
    "t,dt,x,y  = 0.,1e-4,-1.0,10.0\n",
    "xold,yold = x,y\n",
    "#\n",
    "while t<12:\n",
    "    dxdt,dydt,tau = derivs(x,y,t,dt)\n",
    "    # Update x and y.\n",
    "    x += dxdt * dt\n",
    "    y += dydt * dt\n",
    "    t += dt\n",
    "    if np.abs(10*t - np.rint(10*t))<9*dt:\n",
    "        ax.plot([x],[y],'ko',mfc='None')\n",
    "        eta,xi = rabbit(t)\n",
    "        ax.plot([eta],[xi],'bs',mfc='None')\n",
    "        eta,xi = rabbit(find_tau(x,y,t))\n",
    "        ax.plot([eta],[xi],'cd',mfc='None')\n",
    "        xold,yold = x,y\n",
    "ax.plot([-5],[0],'ko',label='Dog')\n",
    "ax.plot([-5],[0],'bs',label='True rabbit')\n",
    "ax.plot([-5],[0],'cd',label='App. rabbit')\n",
    "ax.set_xlim(-1.1,1.1)\n",
    "ax.set_ylim(-50.,15.)\n",
    "ax.set_xlabel(r'$x$',fontsize=18)\n",
    "ax.set_ylabel(r'$y$',fontsize=18)\n",
    "ax.legend()"
   ]
  },
  {
   "cell_type": "markdown",
   "metadata": {},
   "source": [
    "The classical pursuit problem has an interesting history, with contributions to the mathematics going as far back as Newton. There was a lot of development in the 18th century, funded by various navies, that helped inspire developments in DEs. Prominent names associated with the problem are Bouguer and Boole."
   ]
  }
 ],
 "metadata": {
  "kernelspec": {
   "display_name": "Python 3",
   "language": "python",
   "name": "python3"
  },
  "language_info": {
   "codemirror_mode": {
    "name": "ipython",
    "version": 3
   },
   "file_extension": ".py",
   "mimetype": "text/x-python",
   "name": "python",
   "nbconvert_exporter": "python",
   "pygments_lexer": "ipython3",
   "version": "3.6.7"
  }
 },
 "nbformat": 4,
 "nbformat_minor": 2
}
