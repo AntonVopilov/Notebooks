{
 "cells": [
  {
   "cell_type": "code",
   "execution_count": 1,
   "metadata": {},
   "outputs": [],
   "source": [
    "import numpy as np\n",
    "import matplotlib.pyplot as plt\n",
    "%matplotlib inline"
   ]
  },
  {
   "cell_type": "markdown",
   "metadata": {},
   "source": [
    "## Solenoid ##\n",
    "\n",
    "In class we derived the equations for the vector potential and magnetic field for a solenoid in terms of elliptic functions.  Since these functions are so standard, most mathematical libraries (including ```scipy.special```) provide routines for computing them.  This makes it very easy to plot the field lines for a solenoid ..."
   ]
  },
  {
   "cell_type": "markdown",
   "metadata": {},
   "source": [
    "Of course, there is another (more mundane) way to get the field lines for a solenoid.  We could just integrate \"Ampere's law\" given a current!  We have to do a 2D integral for each observation point, so this is a bit annoying, but it's relatively quick to code.\n",
    "\n",
    "To recap, the solenoid has its axis along $\\hat{z}$ and runs from $-L/2$ to $L/2$.  All of the current runs in the $\\hat{e}_\\theta$ direction in an infinitely thin region a distance $a$ from the $z$-axis.\n",
    "\n",
    "Given the symmetry we want to use cylindrical coordinates, $(R,\\theta,z)$, and we can work at $\\theta=0$.  Recall\n",
    "$$\n",
    "  \\vec{B}(R_1,\\theta_1=0,z_1) = \\frac{\\mu I a}{c}\\int_{-L/2}^{L/2}dz_2\\int_0^{2\\pi}d\\theta_2\n",
    "  \\frac{\\hat{e}_{\\theta_2}\\times\\vec{r}_{12}}{r_{12}^3}\n",
    "$$\n",
    "where $I$ is a current density and $\\vec{r}_{12}=\\vec{r}_1-\\vec{r}_2$.  In our case the Cartesian components of $\\vec{r}_i$ are\n",
    "$$\n",
    "  \\vec{r}_1=\\left[ R_1 , 0 , z_1 \\right] \\quad , \\quad\n",
    "  \\vec{r}_2=\\left[ a\\cos\\theta_2 , a\\sin\\theta_2, z_2 \\right]\n",
    "$$\n",
    "so\n",
    "$$\n",
    "  r_{12}^3 = \\left[ R_1^2+a^2\\cos^2\\theta_2-2aR_1\\cos\\theta_2 + (z_1-z_2)^2 \\right]^{3/2}\n",
    "$$\n",
    "We'll drop the prefactor (or work in units of $\\mu Ia/c$) and concentrate on the integral.  Only two components of $\\vec{B}$ are non-zero: $B_z$ and $B_R$.  Using $\\hat{v}\\cdot(\\hat{e}_{\\theta}\\times\\vec{r})=\\vec{r}\\cdot(\\hat{v}\\times\\hat{e}_{\\theta})$ we have\n",
    "$$\n",
    "  \\hat{e}_{z_1}\\cdot(\\hat{e}_{\\theta_2}\\times\\vec{r}) =\n",
    "  \\hat{e}_{z_2}\\cdot(\\hat{e}_{\\theta_2}\\times\\vec{r}) =\n",
    "  -\\hat{e}_{R_2}\\cdot\\vec{r}\n",
    "$$\n",
    "For $B_R$ it is a bit more complicated because we want the $\\hat{e}_{R_1}$ not the $\\hat{e}_{R_2}$ component and they're not easily related.  Recall $\\hat{e}_{\\theta}=(-\\sin\\theta,\\cos\\theta,0)$ and we want the 1st component which has only one non-zero piece: $\\cos\\theta_2 r_{12}^{z}$.\n",
    "\n",
    "We'll use ```scipy.integrate.dblquad``` because it's easily available.  If we were doing this in some critical setting we'd probably tailor the integrator to the problem."
   ]
  },
  {
   "cell_type": "code",
   "execution_count": 2,
   "metadata": {},
   "outputs": [],
   "source": [
    "# Set up the constants for our problem.\n",
    "L,a = 5.0,1.0"
   ]
  },
  {
   "cell_type": "code",
   "execution_count": 3,
   "metadata": {},
   "outputs": [
    {
     "data": {
      "text/plain": [
       "((11.667582204457968, 1.9411656853090197e-13), (0.0, 1.7193192568891832e-14))"
      ]
     },
     "execution_count": 3,
     "metadata": {},
     "output_type": "execute_result"
    }
   ],
   "source": [
    "from scipy.integrate import dblquad\n",
    "\n",
    "def dB_z(theta2,z2,R1,z1):\n",
    "    \"\"\"The integrand for B_z ... note the order of the arguments, following\n",
    "    the dblquad convention of y before x.  We are integrating in z2 and theta2.\n",
    "    The values of R1 and z1 are 'args'.\"\"\"\n",
    "    r1 = np.array([R1,0,z1])\n",
    "    r2 = np.array([a*np.cos(theta2),a*np.sin(theta2),z2])\n",
    "    eR2= np.array([np.cos(theta2),np.sin(theta2),0.0])\n",
    "    r12= r1 - r2\n",
    "    num= -np.dot(eR2,r12)\n",
    "    den= (np.sum(r12**2))**(3./2.) + 1e-20\n",
    "    return(num/den)\n",
    "    #\n",
    "\n",
    "def dB_R(theta2,z2,R1,z1):\n",
    "    \"\"\"The integrand for B_R ... note the order of the arguments, following\n",
    "    the dblquad convention of y before x.  We are integrating in z2 and theta2.\n",
    "    The values of R1 and z1 are 'args'.\"\"\"\n",
    "    r1 = np.array([R1,0,z1])\n",
    "    r2 = np.array([a*np.cos(theta2),a*np.sin(theta2),z2])\n",
    "    r12= r1 - r2\n",
    "    num= np.cos(theta2)*r12[2]\n",
    "    den= (np.sum(r12**2))**(3./2.) + 1e-20\n",
    "    return(num/den)\n",
    "    #\n",
    "\n",
    "# Just check the code doesn't crash or produce infinities... we'll evaluate\n",
    "# the two components at R1=z1=0:\n",
    "dblquad(dB_z,-L/2.,L/2.,0.,2*np.pi,(0.0,0.0)),\\\n",
    "dblquad(dB_R,-L/2.,L/2.,0.,2*np.pi,(0.0,0.0))"
   ]
  },
  {
   "cell_type": "markdown",
   "metadata": {},
   "source": [
    "Now we can plot $\\vec{B}$ in the $\\theta_1=0$ plane.  Let's start by computing the two components on a regular grid.  We only need to worry about $z_1>0$, when it comes to plotting we could always mirror things around to cover the full range."
   ]
  },
  {
   "cell_type": "code",
   "execution_count": 10,
   "metadata": {},
   "outputs": [
    {
     "name": "stdout",
     "output_type": "stream",
     "text": [
      "B field in range [  4.7635e-01,  1.1797e+01]\n"
     ]
    }
   ],
   "source": [
    "# Set up our plot region:\n",
    "Rmin,Rmax = 0.0,2.0\n",
    "Zmin,Zmax = 0.0,3.0\n",
    "Nx,Ny     = 16,8\n",
    "B_z,B_R   = np.zeros((Nx,Ny)),np.zeros((Nx,Ny))\n",
    "#\n",
    "# This isn't the most Pythonic way of doing this, but I think\n",
    "# it might be the clearest.  We want just the value of the\n",
    "# integral, we'll throw away the error estimate.\n",
    "#\n",
    "# This is pretty slow!\n",
    "#\n",
    "for ix,R1 in enumerate(np.linspace(Rmin,Rmax,Nx)):\n",
    "    for iy,z1 in enumerate(np.linspace(Zmin,Zmax,Ny)):\n",
    "        B_R[ix,iy] = dblquad(dB_R,-L/2.,L/2.,0.,2*np.pi,(R1,z1))[0]\n",
    "        B_z[ix,iy] = dblquad(dB_z,-L/2.,L/2.,0.,2*np.pi,(R1,z1))[0]\n",
    "Bval   = np.sqrt( B_R**2 + B_z**2 )\n",
    "print(\"B field in range [{:12.4e},{:12.4e}]\".format(np.min(Bval),np.max(Bval)))"
   ]
  },
  {
   "cell_type": "code",
   "execution_count": 11,
   "metadata": {},
   "outputs": [
    {
     "data": {
      "text/plain": [
       "Text(0, 0.5, '$z$')"
      ]
     },
     "execution_count": 11,
     "metadata": {},
     "output_type": "execute_result"
    },
    {
     "data": {
      "image/png": "[encoded data removed]",
      "text/plain": [
       "<Figure size 576x252 with 2 Axes>"
      ]
     },
     "metadata": {
      "needs_background": "light"
     },
     "output_type": "display_data"
    }
   ],
   "source": [
    "# Let's just plot the components to check for sanity!\n",
    "fig,ax = plt.subplots(1,2,figsize=(8,3.5))\n",
    "ax[0].imshow(B_R.T,origin='lower',extent=[Rmin,Rmax,Zmin,Zmax])\n",
    "ax[1].imshow(B_z.T,origin='lower',extent=[Rmin,Rmax,Zmin,Zmax])\n",
    "ax[0].set_xlabel('$R$')\n",
    "ax[1].set_xlabel('$R$')\n",
    "ax[0].set_ylabel('$z$')\n",
    "ax[1].set_ylabel('$z$')"
   ]
  },
  {
   "cell_type": "code",
   "execution_count": 23,
   "metadata": {},
   "outputs": [
    {
     "data": {
      "text/plain": [
       "Text(0, 0.5, '$z$')"
      ]
     },
     "execution_count": 23,
     "metadata": {},
     "output_type": "execute_result"
    },
    {
     "data": {
      "image/png": "[encoded data removed]",
      "text/plain": [
       "<Figure size 432x432 with 1 Axes>"
      ]
     },
     "metadata": {
      "needs_background": "light"
     },
     "output_type": "display_data"
    }
   ],
   "source": [
    "# Let's plot this as a vector field.\n",
    "X,Y = np.meshgrid(np.linspace(Rmin,Rmax,Nx),np.linspace(Zmin,Zmax,Ny),indexing='ij')\n",
    "#\n",
    "fig,ax = plt.subplots(1,1,figsize=(6,6))\n",
    "ax.imshow(np.log(5*Bval.T),origin='lower',extent=[Rmin,Rmax,Zmin,Zmax])\n",
    "ax.quiver(X,Y,B_R,B_z)\n",
    "ax.plot([a,a],[0,L/2.],'k-',lw=3)  # The solenoid.\n",
    "ax.set_xlabel('$R$')\n",
    "ax.set_ylabel('$z$')"
   ]
  },
  {
   "cell_type": "markdown",
   "metadata": {},
   "source": [
    "With a little bit of work you can \"reflect\" this vector field so that we have $x<0$ as well as $x\\ge 0$ and $z<0$ as well as $z\\ge 0$.  This gives the more familiar picture.  You can also draw in the solenoid (just a black line above) with caps at the ends etc."
   ]
  }
 ],
 "metadata": {
  "kernelspec": {
   "display_name": "Python 3",
   "language": "python",
   "name": "python3"
  },
  "language_info": {
   "codemirror_mode": {
    "name": "ipython",
    "version": 3
   },
   "file_extension": ".py",
   "mimetype": "text/x-python",
   "name": "python",
   "nbconvert_exporter": "python",
   "pygments_lexer": "ipython3",
   "version": "3.6.7"
  }
 },
 "nbformat": 4,
 "nbformat_minor": 2
}
