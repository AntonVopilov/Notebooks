{
 "cells": [
  {
   "cell_type": "code",
   "execution_count": null,
   "metadata": {},
   "outputs": [],
   "source": [
    "import numpy as np\n",
    "import matplotlib.pyplot as plt\n",
    "%matplotlib inline"
   ]
  },
  {
   "cell_type": "markdown",
   "metadata": {},
   "source": [
    "### CLASS ###\n",
    "\n",
    "We'll be using the [Cosmic Linear Anisotropy Solving System](http://class-code.net/) (CLASS) Boltzmann code to compute the evolution of the perturbations as a function of time.\n",
    "\n",
    "The CLASS code is very well documented and maintained, and a public version is avaialble [at this GitHub repo](https://github.com/lesgourg/class_public), making it easy to keep up to date (or to contribute!).\n",
    "\n",
    "If you clone the repository, e.g. with\n",
    "`git clone https://github.com/lesgourg/class_public class`\n",
    "then you can just go into the class directory and \"make\" the code.  I've never had a problem with this on any machine that a few edits to the Makefile didn't fix.  If you want to install the Python interface just go into the Python directory and use `python setup.py install`.  On the datahub you can install as root so you don't need the `--user`, otherwise you can use your own system.  There is also a `Conda` version if you use an Anaconda python distribution."
   ]
  },
  {
   "cell_type": "code",
   "execution_count": null,
   "metadata": {},
   "outputs": [],
   "source": [
    "# Import the Class class.\n",
    "from classy import Class"
   ]
  },
  {
   "cell_type": "markdown",
   "metadata": {},
   "source": [
    "### Evolution of a single k mode ###\n",
    "\n",
    "Let's study the evolution of a single $k$ mode with time.  We will look at the CDM density perturbation, the photon density perturbation and the photon velocity (divergence) and how they evolve."
   ]
  },
  {
   "cell_type": "code",
   "execution_count": null,
   "metadata": {},
   "outputs": [],
   "source": [
    "# Define the cosmology (what is not specified will be set to CLASS default parameters).\n",
    "# We'll use the \"Planck 2018 cosmology\" (plus BAO), defined in the right-hand column\n",
    "# of Table 6 in https://arxiv.org/pdf/1807.06205.pdf\n",
    "#\n",
    "# The k-value we want to follow.\n",
    "kval = 0.1  # 1/Mpc\n",
    "#\n",
    "params = {\n",
    "    'output':'mPk',\n",
    "    'k_output_values': kval,\n",
    "    'compute damping scale':'yes',\n",
    "    'gauge':'newtonian',\n",
    "    'A_s': np.exp(3.040)*1e-10,\n",
    "    'n_s': 0.96824,\n",
    "    'h': 0.6770,\n",
    "    'N_ur': 2.0328,\n",
    "    'N_ncdm': 1,\n",
    "    'm_ncdm': 0.06,\n",
    "    'tau_reio': 0.0568,\n",
    "    'omega_b': 0.022447,\n",
    "    'omega_cdm': 0.11923}\n",
    "#\n",
    "\n",
    "#\n",
    "# Create an instance of the CLASS wrapper, set the parameters and\n",
    "# run the code. It should take about a second...\n",
    "cosmo = Class()\n",
    "cosmo.set(params)\n",
    "cosmo.compute()"
   ]
  },
  {
   "cell_type": "code",
   "execution_count": null,
   "metadata": {},
   "outputs": [],
   "source": [
    "all_k = cosmo.get_perturbations()  \n",
    "one_k = all_k['scalar'][0]     # scalar perturbations for kval\n",
    "print(one_k.keys())\n",
    "#    \n",
    "tau = one_k['tau [Mpc]']\n",
    "dc  = one_k['delta_cdm']\n",
    "db  = one_k['delta_b']\n",
    "dg  = one_k['delta_g']\n",
    "vg  = one_k['theta_g']  # Really velocity divergence, despite \"vg\" name.\n",
    "phi = one_k['phi']\n",
    "psi = one_k['psi']\n",
    "vb  = one_k['theta_b']\n",
    "a   = one_k['a']"
   ]
  },
  {
   "cell_type": "code",
   "execution_count": null,
   "metadata": {},
   "outputs": [],
   "source": [
    "# Now make a plot!\n",
    "#\n",
    "fig,ax = plt.subplots(1,2,figsize=(12,4))\n",
    "ax[0].plot(a,np.abs(0.75*dg),label=r'$(3/4)\\delta_\\gamma$')\n",
    "ax[0].plot(a,np.abs(vb),label=r'$\\theta_\\gamma$')\n",
    "ax[0].plot(a,np.abs(dc),label=r'$\\delta_{cdm}$')\n",
    "ax[0].plot(a,np.abs(db),label=r'$\\delta_b$')\n",
    "#\n",
    "ax[0].legend(title=\"$k={:.2f}$\".format(kval))\n",
    "ax[0].set_xscale('log')\n",
    "ax[0].set_yscale('log')\n",
    "ax[0].set_xlabel('$a$',fontsize=18)\n",
    "ax[0].set_title('Newtonian Gauge')\n",
    "#\n",
    "ax[1].plot(a,np.abs(phi),label='$\\Phi$')\n",
    "ax[1].plot(a,np.abs(psi),label='$\\Psi$')\n",
    "#\n",
    "ax[1].legend(title=\"$k={:.2f}$\".format(kval))\n",
    "ax[1].set_xscale('log')\n",
    "ax[1].set_yscale('log')\n",
    "ax[1].set_xlabel('$a$',fontsize=18)\n",
    "ax[1].set_title('Newtonian Gauge')"
   ]
  },
  {
   "cell_type": "markdown",
   "metadata": {},
   "source": [
    "We should see that the CDM, baryon and photon density perturbations are constant (note the normalization!) outside the horizon ($a\\to 0$) with the photon velocity divergence growing.  The photon density perturbation should be larger than the CDM and baryon density perturbations by a constant factor (4/3) so we've plotted $(3/4)\\delta_\\gamma$ to highlight this.\n",
    "\n",
    "Once the mode crosses the horizon the CDM perturbation will begin to grow while the baryon and photon perturbations will oscillate until recombination ($a\\simeq 10^{-3}$).  You can cross-check that our mode crosses the horizon at the right place by comparing $k=aH$ using the background quantities produced by CLASS.  After recombination the photon power will damp to a constant value (it's actually moving into the higher $\\ell$ modes of the distribution function as a given scale subtends a smaller and smaller angle at the observer's distance from last scattering).  The baryons, being released from the photon pressure, will grow.  They fall into the CDM potential wells and so eventually catch up to the CDM.\n",
    "\n",
    "The CDM evolution is interesting.  Note that it starts to grow as it crosses the horizon.  That growth is slowed down while the photon-baryon fluid is oscillating because the contribution of $\\rho_{b+\\gamma}$ to $\\Phi$ and $\\Psi$ isn't as large as it would have been if the pressure hadn't halted their collapse.  Once the baryons are released from the photons, and the universe has become matter dominated, the growth goes into a $\\delta\\propto a$ phase.  If you were to zoom in on the region near $a=1$ you'd see the growth halting."
   ]
  },
  {
   "cell_type": "code",
   "execution_count": null,
   "metadata": {},
   "outputs": [],
   "source": [
    "#\n",
    "# Zoom in on the epoch of Lambda domination to see the growth of the\n",
    "# CDM (and baryons) halting.\n",
    "#\n",
    "fig,ax = plt.subplots(1,1,figsize=(8,4))\n",
    "ax.plot(1/a,np.abs(db),label=r'$\\delta_b$')\n",
    "ax.plot(1/a,np.abs(dc),label=r'$\\delta_{cdm}$')\n",
    "# Compare to \\delta\\propto a.\n",
    "d0 = np.abs(np.interp(0.2,a,dc))\n",
    "ax.plot(1/a,d0*(a/0.2),label=r'$\\propto a$')\n",
    "#\n",
    "ax.legend(title=\"$k={:.2f}$\".format(kval))\n",
    "ax.set_xlim(6.0,1.0)\n",
    "ax.set_ylim(0.2*np.max(np.abs(dc)),1.1*np.max(np.abs(dc)))\n",
    "ax.set_xscale('log')\n",
    "ax.set_yscale('log')\n",
    "ax.set_xlabel('$1+z$',fontsize=18)\n",
    "ax.set_title('Newtonian Gauge')\n",
    "#"
   ]
  },
  {
   "cell_type": "markdown",
   "metadata": {},
   "source": [
    "### Synchronous gauge ###\n",
    "\n",
    "If you're interested you can also ask how everything evolves in synchronous gauge.  The take-home message for our purposes here is that inside the horizon the difference in gauge becomes fairly irrelevant, but outside the horizon concepts like density, velocity, and so on become ambiguous!"
   ]
  },
  {
   "cell_type": "code",
   "execution_count": null,
   "metadata": {},
   "outputs": [],
   "source": [
    "cosmo.empty()\n",
    "#\n",
    "params = {\n",
    "    'output':'mPk',\n",
    "    'k_output_values': kval,\n",
    "    'compute damping scale':'yes',\n",
    "    'gauge':'sync',\n",
    "    'A_s': np.exp(3.040)*1e-10,\n",
    "    'n_s': 0.96824,\n",
    "    'h': 0.6770,\n",
    "    'N_ur': 2.0328,\n",
    "    'N_ncdm': 1,\n",
    "    'm_ncdm': 0.06,\n",
    "    'tau_reio': 0.0568,\n",
    "    'omega_b': 0.022447,\n",
    "    'omega_cdm': 0.11923}\n",
    "#\n",
    "cosmo.set(params)\n",
    "cosmo.compute()"
   ]
  },
  {
   "cell_type": "code",
   "execution_count": null,
   "metadata": {},
   "outputs": [],
   "source": [
    "all_k = cosmo.get_perturbations()  \n",
    "one_k = all_k['scalar'][0]     # scalar perturbations for kval\n",
    "#\n",
    "dc  = one_k['delta_cdm']\n",
    "db  = one_k['delta_b']\n",
    "dg  = one_k['delta_g']\n",
    "a   = one_k['a']"
   ]
  },
  {
   "cell_type": "code",
   "execution_count": null,
   "metadata": {},
   "outputs": [],
   "source": [
    "# Now make a plot!\n",
    "#\n",
    "fig,ax = plt.subplots(1,1,figsize=(8,4))\n",
    "ax.plot(a,np.abs(0.75*dg),label=r'$(3/4)\\delta_\\gamma$')\n",
    "ax.plot(a,np.abs(dc),label=r'$\\delta_{cdm}$')\n",
    "ax.plot(a,np.abs(db),label=r'$\\delta_b$')\n",
    "#\n",
    "ax.legend(title=\"$k={:.2f}$\".format(kval))\n",
    "ax.set_xscale('log')\n",
    "ax.set_yscale('log')\n",
    "ax.set_xlabel('$a$',fontsize=18)\n",
    "ax.set_title('Synchronous Gauge')"
   ]
  }
 ],
 "metadata": {
  "kernelspec": {
   "display_name": "Python 3",
   "language": "python",
   "name": "python3"
  },
  "language_info": {
   "codemirror_mode": {
    "name": "ipython",
    "version": 3
   },
   "file_extension": ".py",
   "mimetype": "text/x-python",
   "name": "python",
   "nbconvert_exporter": "python",
   "pygments_lexer": "ipython3",
   "version": "3.6.7"
  }
 },
 "nbformat": 4,
 "nbformat_minor": 2
}
