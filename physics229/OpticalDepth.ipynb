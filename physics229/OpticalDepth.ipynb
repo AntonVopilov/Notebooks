{
 "cells": [
  {
   "cell_type": "code",
   "execution_count": null,
   "metadata": {},
   "outputs": [],
   "source": [
    "import numpy as np\n",
    "import matplotlib.pyplot as plt\n",
    "%matplotlib inline"
   ]
  },
  {
   "cell_type": "markdown",
   "metadata": {},
   "source": [
    "We will compute the optical depth given $x_e(z)$, following the convention that $x_e$ is defined with respect to the Hydrogen.  So this means it exceeds unity when He is reionized.  We will also follow the usual assumption that He becomes singly ionized at the same time as H, but doubly ionized at a much lower redshift (when energetic photons are produced in enough numbers by QSOs)."
   ]
  },
  {
   "cell_type": "code",
   "execution_count": null,
   "metadata": {},
   "outputs": [],
   "source": [
    "sigmaT = 6.6524e-29        # SI units.\n",
    "mass_p = 1.673e-27         # SI units.\n",
    "Yp     = 0.25              # He mass fraction -- beware Planck redefines as (1/4)number.\n",
    "ntot4  = 3.9751            # Mass ratio of He/H atoms.\n",
    "ynum   = Yp/ntot4/(1-Yp)   # Extra number of e per He ionization."
   ]
  },
  {
   "cell_type": "code",
   "execution_count": null,
   "metadata": {},
   "outputs": [],
   "source": [
    "rhoc   = 1.8784e-26        # SI units, for h=1\n",
    "Lhub   = 9.252e25          # c/H0 in SI units for h=1\n",
    "#\n",
    "OmM = 0.31\n",
    "hub = 0.6766\n",
    "wb  = 0.02242\n",
    "OmB = wb/hub**2\n",
    "OmL = 1.0-OmM\n",
    "rhoB= wb * (1-Yp) * rhoc\n",
    "ne0 = rhoB/mass_p"
   ]
  },
  {
   "cell_type": "code",
   "execution_count": null,
   "metadata": {},
   "outputs": [],
   "source": [
    "zz  = np.linspace(0.0,10.0,1000)\n",
    "# Just pick some quasi-random forms for now.\n",
    "xe_H   = 0.5*( 1+np.tanh((8.0-zz)/0.5) )\n",
    "xe_HeI = 0.5*( 1+np.tanh((8.0-zz)/0.5) )\n",
    "xe_HeII= 0.5*( 1+np.tanh((3.5-zz)/0.5) )\n",
    "# Make the full ionization history.\n",
    "xe = xe_H + ynum*xe_HeI + ynum*xe_HeII\n",
    "# Plot the contributions for sanity.\n",
    "fig,ax = plt.subplots(1,1)\n",
    "ax.plot(zz,xe_H)\n",
    "ax.plot(zz,xe_HeI)\n",
    "ax.plot(zz,xe_HeII)\n",
    "ax.plot(zz,xe)\n",
    "ax.set_xlabel('Redshift')"
   ]
  },
  {
   "cell_type": "code",
   "execution_count": null,
   "metadata": {},
   "outputs": [],
   "source": [
    "# and compute tau.\n",
    "zp1 = 1+zz\n",
    "Ez  = np.sqrt( OmM*zp1**3 + OmL )\n",
    "dtau= sigmaT*ne0*Lhub*xe*zp1**2/Ez\n",
    "tau = np.trapz(dtau,x=zz)/hub\n",
    "print(tau)"
   ]
  },
  {
   "cell_type": "markdown",
   "metadata": {},
   "source": [
    "Now let us consider the ionization history [proposed by Faucher-Giguere](https://arxiv.org/abs/1903.08657):\n",
    "$$\n",
    "  x_e(z) = \\left(x_H+x_{HeI}\\right)\\Theta + x_{HeII}\\Theta \n",
    "$$\n",
    "with a 'modified step function', $\\Theta$, defined as\n",
    "$$\n",
    "  \\Theta = \\frac{1}{2}\\left[1+\\sin\\left(\\frac{\\pi[z_0-z]}{2\\Delta z}\\right) \\right]\n",
    "$$\n",
    "for $z_0-\\Delta z<z<z_0+\\Delta z$ and then being $0$ or $1$ outside those limits.  The exact $n_e(z)$ is slightly more complicated than given above leading to $\\mathcal{O}(0.01)$ different results for $\\tau$, but this will be good enough for our purposes:"
   ]
  },
  {
   "cell_type": "code",
   "execution_count": null,
   "metadata": {},
   "outputs": [],
   "source": [
    "zrei_H ,dz_H  = 7.7,0.25\n",
    "zrei_He,dz_He = 3.5,0.25\n",
    "# Set up the contributions, not worrying about clipping \\Theta yet.\n",
    "xe_H   = 0.5*( 1+np.sin(np.pi*(zrei_H -zz)/2/dz_H ) )\n",
    "xe_HeI = 0.5*( 1+np.sin(np.pi*(zrei_H -zz)/2/dz_H ) )\n",
    "xe_HeII= 0.5*( 1+np.sin(np.pi*(zrei_He-zz)/2/dz_He) )\n",
    "# Now clip off the wings of these functions\n",
    "xe_H[    zz<zrei_H - dz_H ] = 1\n",
    "xe_H[    zz>zrei_H + dz_H ] = 0\n",
    "xe_HeI[  zz<zrei_H - dz_H ] = 1\n",
    "xe_HeI[  zz>zrei_H + dz_H ] = 0\n",
    "xe_HeII[ zz<zrei_He- dz_He] = 1\n",
    "xe_HeII[ zz>zrei_He+ dz_He] = 0\n",
    "# Make the full ionization history.\n",
    "xe = xe_H + ynum*xe_HeI + ynum*xe_HeII\n",
    "# Plot it!\n",
    "fig,ax = plt.subplots(1,1,figsize=(8,4))\n",
    "ax.plot(zz,xe)\n",
    "ax.set_xlabel('Redshift')"
   ]
  },
  {
   "cell_type": "code",
   "execution_count": null,
   "metadata": {},
   "outputs": [],
   "source": [
    "# and compute tau.\n",
    "zp1 = 1+zz\n",
    "Ez  = np.sqrt( OmM*zp1**3 + OmL )\n",
    "dtau= sigmaT*ne0*Lhub*xe*zp1**2/Ez\n",
    "tau = np.trapz(dtau,x=zz)/hub\n",
    "print(tau)"
   ]
  }
 ],
 "metadata": {
  "kernelspec": {
   "display_name": "Python 3",
   "language": "python",
   "name": "python3"
  },
  "language_info": {
   "codemirror_mode": {
    "name": "ipython",
    "version": 3
   },
   "file_extension": ".py",
   "mimetype": "text/x-python",
   "name": "python",
   "nbconvert_exporter": "python",
   "pygments_lexer": "ipython3",
   "version": "3.6.7"
  }
 },
 "nbformat": 4,
 "nbformat_minor": 2
}
