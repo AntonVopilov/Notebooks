{
 "cells": [
  {
   "cell_type": "code",
   "execution_count": null,
   "metadata": {},
   "outputs": [],
   "source": [
    "import numpy as np\n",
    "from scipy.integrate import odeint\n",
    "import matplotlib.pyplot as plt\n",
    "%matplotlib inline"
   ]
  },
  {
   "cell_type": "markdown",
   "metadata": {},
   "source": [
    "# In progress #\n",
    "\n",
    "This notebook is still under construction.\n"
   ]
  },
  {
   "cell_type": "markdown",
   "metadata": {},
   "source": [
    "## Background ##\n",
    "\n",
    "In 1801 a young Gauss became an overnight sensation when he rediscovered the minor planet [Ceres](https://en.wikipedia.org/wiki/Ceres_(dwarf_planet)), which had been \"lost\" by its discoverer (Piazzi) earlier that year.  You can read more of the history and his methodology [here](https://math.berkeley.edu/~mgu/MA221/Ceres_Presentation.pdf) and [here](http://sites.math.rutgers.edu/~cherlin/History/Papers1999/weiss.html).  In brief he was clever, he calculated by hand (for over 100 hours), and he invented the method of least squares.  We're not as clever and we'll use a computer, but we'll follow his lead and use the method of least squares too.  Hopefully this will take less than 100 hours!"
   ]
  },
  {
   "cell_type": "markdown",
   "metadata": {},
   "source": [
    "### Model ###\n",
    "\n",
    "We integrate the (very simple) ODEs for motion of a test particle under a central force.  We use \"odeint\" to evolve the particle starting from x,v then \"observe\" it from the Earth -- which we simplify as a point moving in the x-y plane at radius 1 with 1 revolution per unit time (i.e. our length units are AU and our time units years).  One could certainly imagine a more complex set-up where we included a proper Earth motion and even perturbations from the other (major) planets.  The ODE isn't very hard to set up.\n",
    "\n",
    "If the Earth were on a circular orbit, then $v^2=GM_\\odot/r$.  For a period of 1 unit and a radius of 1 unit this would imply $v=2\\pi$ and hence $GM_\\odot=(2\\pi)^2$."
   ]
  },
  {
   "cell_type": "code",
   "execution_count": null,
   "metadata": {},
   "outputs": [],
   "source": [
    "# Set up code which will integrate the orbit given a initial conditions and\n",
    "# \"observe\" our object from the Earth.\n",
    "# We'll idealize this problem dramatically, putting the Earth on a circular\n",
    "# orbit in the x-y plane and ignoring the influence of everything but the Sun.\n",
    "def derivs(y,t):\n",
    "    \"\"\"The derivatives for the ODE integration (see below).\"\"\"\n",
    "    kSol   = 4*np.pi**2                # GM in Msun, AU, yr units. and astronomical units.\n",
    "    r2     = np.sum(y[:3]**2)          # Squared radius.\n",
    "    nhat   = y[:3]/(np.sqrt(r2)+1e-20) # Avoid divide by zero.\n",
    "    dy     = np.empty_like(y)\n",
    "    # To avoid round-off error and avoid Ceres-Sun scattering in case our\n",
    "    # orbit gets too close to the origin, we add a small positive constant\n",
    "    # to our squared radius.\n",
    "    # The derivatives are just dr/dt=v and dv/dt=-GM/r^2 nhat:\n",
    "    dy[:3] = y[3:]\n",
    "    dy[3:] = -kSol/(r2+1e-4) * nhat\n",
    "    return(dy)\n",
    "    #\n",
    "def predict_angles(r,v,tobs):\n",
    "    \"\"\"Given initial positions and velocities (r,v), predict the angular positions\n",
    "       as viewed from the Earth at observation times tobs.\"\"\"\n",
    "    # We pack the position and velocity into a 6-vector, y, and integrate the EOM.\n",
    "    y0  = np.append(r,v)\n",
    "    res = odeint(derivs,y0,tobs)\n",
    "    # Now work out the Earth's position and subtract it from each observation\n",
    "    # to get a relative vector.\n",
    "    omegat = 2*np.pi*tobs\n",
    "    earth  = np.vstack( (np.cos(omegat),np.sin(omegat),0*omegat) ).T\n",
    "    rel    = res[:,:3] - earth\n",
    "    # and from the relative vector work out theta and phi.\n",
    "    rr     = np.sqrt( np.sum( res[:,:3]**2, axis=1 ) )\n",
    "    thta   = np.arccos( res[:,2]/(rr+1e-30))\n",
    "    phi    = np.arctan2(res[:,1],res[:,0])\n",
    "    # We return the \"true\" path of this orbit as well, in case we want\n",
    "    # to look at it in 3D or something later.\n",
    "    return( (thta,phi,res[:,:3]) )"
   ]
  },
  {
   "cell_type": "code",
   "execution_count": null,
   "metadata": {
    "scrolled": true
   },
   "outputs": [],
   "source": [
    "# Generate a data vector by simulating an orbit, observing it and then adding noise.\n",
    "r    = np.array([1.0,5.0,5.0])\n",
    "vcir = (2*np.pi)/(np.sum(r**2))**0.25  # Velocity for a circular orbit: Sqrt[GM/r].\n",
    "v    = vcir * np.random.normal(size=3) # Small enough for a bound orbit.\n",
    "v    = vcir * np.array([0.5,0.5,0.5])  # Hold this fixed for now...\n",
    "tobs = np.linspace(0.,15.,500)         # Must contain IVP, i.e. t=0.\n",
    "print(\"Initial conditions: \",r,\" \",v)\n",
    "# Generate a true path and add noise.\n",
    "thta,phi,pth = predict_angles(r,v,tobs)\n",
    "thta += 0.01 * np.random.normal(size=len(thta))\n",
    "phi  += 0.01 * np.random.normal(size=len(phi ))"
   ]
  },
  {
   "cell_type": "code",
   "execution_count": null,
   "metadata": {},
   "outputs": [],
   "source": [
    "deg    = 180./np.pi\n",
    "fig,ax = plt.subplots(1,1,figsize=(6,4))\n",
    "cax    = ax.scatter(phi*deg,(np.pi/2-thta)*deg,c=tobs)\n",
    "ax.set_xlabel('Azimuth')\n",
    "ax.set_ylabel('Altitude')\n",
    "plt.colorbar(cax)"
   ]
  },
  {
   "cell_type": "markdown",
   "metadata": {},
   "source": [
    "## Orbit determination through minimization ##\n",
    "\n",
    "To find the orbit of Ceres now becomes a minimization problem, in 6D (initial position and velocity components).  Let us define $\\chi^2$ of a 6D vector $(r,v)$.  For simplicity we'll assume $\\theta$ and $\\phi$ have constant errors of 0.01 radians, since this is what we put in!  Note this isn't super physical, but serves our purposes."
   ]
  },
  {
   "cell_type": "code",
   "execution_count": null,
   "metadata": {},
   "outputs": [],
   "source": [
    "def chi2(pars):\n",
    "    \"\"\"Returns the chi^2 for fitting the data given the 6 \"parameters\" (r,v).\"\"\"\n",
    "    r = pars[:3]\n",
    "    v = pars[3:]\n",
    "    t,p,pth = predict_angles(r,v,tobs)\n",
    "    c2= np.sum( ((t-thta)/0.01)**2 ) + np.sum( ((p-phi)/0.01)**2 )\n",
    "    return(c2)\n",
    "\n",
    "# Check chi^2 for some random initial conditions just to make sure.\n",
    "pars = np.array([10.,10.,10.,0.,0.,0.]) + np.random.normal(size=6)\n",
    "chi2(np.array([10.,10.,10.,0.,0.,0.]))"
   ]
  },
  {
   "cell_type": "markdown",
   "metadata": {},
   "source": [
    "## Minimization without gradient information ##\n",
    "\n",
    "The first issue we face is that the integration is not \"differentiable\", that is we don't know how to compute the gradient of $\\chi^2$ with respect to our 6 parameters (we could talk about auto-differentation here).\n",
    "\n",
    "* Random flailing around\n",
    "* Pattern search.\n",
    "* Powell\n",
    "* Levenburg-Marquardt"
   ]
  },
  {
   "cell_type": "markdown",
   "metadata": {},
   "source": [
    "Have students investigate how minimizers approach the right solution.  We can introduce different minimizers and plot sky projections of our orbits, how $\\chi^2$ decreases with number of steps etc.\n",
    "\n",
    "Have students try to write their own code or possibly use canned SciPy routines for minimization."
   ]
  },
  {
   "cell_type": "markdown",
   "metadata": {},
   "source": [
    "## Minimization with gradient information ##\n",
    "\n",
    "To compare this to a situation where we have gradient information let us modify our problem somewhat.  For 6D this will help -- for much higher dimensions it will gain us tremendously.  To search in $N_{par}$ dimensions without gradients requires O($N_{par}^2$) function evaluations.  To search with gradients requires O($N_{par}$).\n",
    "\n",
    "Suppose Ceres is distant from the Sun, so its orbital time is long.  Further suppose that the observations are taken over a short time period.  We can Taylor series expand the path of Ceres around the central observation:\n",
    "$$\n",
    "  \\vec{x}(t) \\simeq \\vec{x}_0 + (t-t_0)\\left.\\frac{d\\vec{x}}{dt}\\right|_0\n",
    "    + \\frac{1}{2}(t-t_0)^2 \\left.\\frac{d^2\\vec{x}}{dt^2}\\right|_0\n",
    "    = \\vec{x}_0 + (t-t_0)\\vec{v}_0 - \\frac{k\\hat{x}_0}{2r_0^2}(t-t_0)^2\n",
    "$$\n",
    "where $r_0^2=|\\vec{x}_0|^2$.  For fixed observations $\\vec{x}(t_i)$ is a function of $\\vec{x}_0$ and $\\vec{v}_0$.  The complication now is just the position-to-angle step.  To simplify the algebra so we can focus on the numerics, let's imagine we observe from the Sun, not the Earth (or the orbital radius of Ceres is so large compared to that of the Earth that it doesn't matter).  This assumption could be dropped, but it won't change our strategies, just some algebra along the way.\n",
    "\n",
    "The obvious path would be to take as our data $\\theta_i$ and $\\phi_i$ and as our model $\\theta(t)$ and $\\phi(t)$ then:\n",
    "$$\n",
    "  \\chi^2 = \\sum_i\\frac{[\\theta_i-\\theta(t_i)]^2}{\\sigma_i^2} +\n",
    "           \\sum_i\\frac{[\\phi_i-\\phi(t_i)]^2}{\\sigma_i^2}\n",
    "$$\n",
    "while\n",
    "\\begin{eqnarray}\n",
    "  \\frac{d\\chi^2}{d\\vec{x}_0} &=& \\sum_i \\frac{[\\theta_i-\\theta(t_i)]}{\\sigma_i^2}\n",
    "  \\frac{d\\theta(t_i)}{d\\vec{x}_0} + \\cdots \\\\\n",
    "  &=& \\sum_i \\frac{[\\theta_i-\\theta(t_i)]}{\\sigma_i^2}\n",
    "  \\frac{-1}{\\sqrt{1-y_i^2}}\\frac{dy_i}{d\\vec{x}_0} + \\cdots \\\\\n",
    "  &=& \\sum_i \\frac{[\\theta_i-\\theta(t_i)]}{\\sigma_i^2}\n",
    "  \\frac{-1}{\\sqrt{1-y_i^2}}\\left[ \\frac{dz/d\\vec{x}_0}{r_i}\n",
    "  - \\frac{z(t_i)\\,dr/d\\vec{x}_0}{r_i^2} \\right] + \\cdots\n",
    "\\end{eqnarray}\n",
    "where $y_i=z(t_i)/|\\vec{x}(t_i)|$ and we've written $r_i=r(t_i)=|\\vec{x}(t_i)|$ as above.  Note the $\\vec{x}_0$ dependence enters through the first term, $\\vec{x}_0$, but also through the $1/r_0^2$ term multiplying $(t-t_0)^2$.\n",
    "\n",
    "You can do this, but it is actually fairly awkward.  Perhaps easier is to recast the observations into unit vectors, $\\hat{n}_i$.  We can predict $\\hat{n}(t)$ simply by dividing $\\vec{x}(t)$ by $r(t)$.  Now being close to the observations means maximizing $\\hat{n}(t_i)\\cdot\\hat{n}_i$.  In fact for small angles, $\\hat{n}(t_i)\\cdot\\hat{n}_i\\approx 1-(1/2)\\theta^2$.  So our log-likelihood could be\n",
    "$$\n",
    "  \\ln L = \\sum_i w_i\\ \\hat{n}_i\\cdot\\hat{n}(t_i)\n",
    "$$\n",
    "with weights $w_i\\propto \\sigma_i^{-2}$.  This is simpler to deal with.  For $\\vartheta=\\{\\vec{x}_0,\\vec{v}_0\\}$ we have\n",
    "$$\n",
    "  \\frac{\\partial\\ln L}{\\partial\\vartheta} = \\sum_i w_i\\hat{n}_i\\cdot\n",
    "  \\left( \\frac{1}{r_i}\\frac{\\partial\\vec{x}(t_i)}{\\partial\\vartheta} -\n",
    "  \\frac{\\vec{x}(t_i)}{r_i^3}\\vec{x}(t_i)\\cdot\\frac{\\partial\\vec{x}(t_i)}{\\partial\\vartheta}\\right)\n",
    "  = \\sum_i\\frac{w_i\\hat{n}_i}{r_i}\\cdot\\left( \\mathbf{1} - \\frac{\\vec{x}(t_i)}{r_i^2}\\vec{x}(t_i)\\cdot\\right)\\frac{\\partial\\vec{x}(t_i)}{\\partial\\vartheta}\n",
    "$$\n",
    "which is relatively easy to code up since\n",
    "$$\n",
    "  \\frac{\\partial x^a(t_i)}{\\partial x_0^b} = \\delta_{ab} + \\cdots\n",
    "  \\quad , \\quad\n",
    "  \\frac{\\partial x^a(t_i)}{\\partial v_0^b} = (t-t_0)\\delta_{ab}\n",
    "$$\n",
    "It is a useful trick when doing these sorts of problems to let the computer do the chain rule for you: note that at the level of numbers the chain rule is essentially just matrix multiplication.  This helps to debug the code and keep the source closer to the algebra.  So in this case..."
   ]
  },
  {
   "cell_type": "markdown",
   "metadata": {},
   "source": [
    "#### Symbolic manipulation ####\n",
    "\n",
    "Depending upon what we want to teach, this is a good place to introduce sympy and symbolic manipulations.  Since none of our formulae involve complex functions, we can have the computer auto-generate all of the derivatives as NumPy vectorized expressions."
   ]
  },
  {
   "cell_type": "markdown",
   "metadata": {},
   "source": [
    "## Minimizers ##\n",
    "\n",
    "Minimizers we can investigate:\n",
    "\n",
    "* Powell\n",
    "* BFGS\n",
    "* PCG\n",
    "* AdaProp\n",
    "* ADAM\n"
   ]
  },
  {
   "cell_type": "markdown",
   "metadata": {},
   "source": [
    "### Other references ###\n",
    "\n",
    "Multigrid article\n",
    "https://link.springer.com/article/10.1007/BF01227487\n",
    "\n",
    "NASA report.\n",
    "https://ntrs.nasa.gov/archive/nasa/casi.ntrs.nasa.gov/19700016051.pdf\n",
    "\n",
    "Kalman filter & numerical integration.\n",
    "https://www.degruyter.com/downloadpdf/j/arsa.2014.49.issue-2/arsa-2014-0007/arsa-2014-0007.pdf\n",
    "\n",
    "Quasi-linearization\n",
    "http://www.dtic.mil/dtic/tr/fulltext/u2/608287.pdf\n",
    "\n",
    "Taylor expansion\n",
    "http://lfvn.astronomer.ru/report/0000037/timflohrer_2.pdf\n",
    "\n",
    "Review article\n",
    "http://www.jhuapl.edu/techdigest/TD/td2703/vetter.pdf\n",
    "\n",
    "Discussion of classical methods and optimization [hard to follow]\n",
    "https://www.hindawi.com/journals/aaa/2013/960582/\n",
    "\n",
    "Ideas about the \"f and g\" methods\n",
    "https://academic.oup.com/mnras/article/391/3/1259/978116\n",
    "\n",
    "Lectures notes on Laplace and Gauss methods\n",
    "https://www.stardust2013.eu/Portals/63/Images/Training/OTS%20Repository/gronchi_OTS2013.pdf\n",
    "\n"
   ]
  }
 ],
 "metadata": {
  "kernelspec": {
   "display_name": "Python 3",
   "language": "python",
   "name": "python3"
  },
  "language_info": {
   "codemirror_mode": {
    "name": "ipython",
    "version": 3
   },
   "file_extension": ".py",
   "mimetype": "text/x-python",
   "name": "python",
   "nbconvert_exporter": "python",
   "pygments_lexer": "ipython3",
   "version": "3.6.7"
  }
 },
 "nbformat": 4,
 "nbformat_minor": 2
}
