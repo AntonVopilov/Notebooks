{
 "cells": [
  {
   "cell_type": "code",
   "execution_count": null,
   "metadata": {},
   "outputs": [],
   "source": [
    "import numpy as np\n",
    "import matplotlib.pyplot as plt\n",
    "%matplotlib inline"
   ]
  },
  {
   "cell_type": "markdown",
   "metadata": {},
   "source": [
    "## Approximating functions for cosmology ##\n",
    "\n",
    "If you aren't familiar with standard methods of function approximation, look at the \"TableConstruction\" iPython notebook.  That material is something graduate students in technical fields are supposed to \"just know\" (somehow).  We will use some of the tricks below."
   ]
  },
  {
   "cell_type": "markdown",
   "metadata": {},
   "source": [
    "### Massive neutrinos ###\n",
    "\n",
    "Let us begin by considering the calculation of \"background\" cosmological quantities (i.e. distances, ages, ...) in cosmologies including massive neutrinos.  All such quantities essentially reduce to integrals over the (inverse of the) Hubble parameter, $H(z)$.  To be concrete let us consider the computation of the comoving distance, $\\chi$, in a spatially flat cosmology:\n",
    "$$\n",
    "  \\frac{d\\chi}{dz} = \\frac{c}{H(z)} \\quad\\Rightarrow\\quad\n",
    "  \\chi(z) = \\frac{c}{H_0}\\int_0^z\\frac{dz'}{E(z')}\n",
    "$$\n",
    "where $E(z)=H(z)/H_0$.  Using the Friedmann equation\n",
    "$$\n",
    "  E(z) = \\sqrt{ \\Omega_m (1+z)^3 + \\Omega_r (1+z)^4 + \\cdots + \\Omega_\\Lambda }\n",
    "$$\n",
    "where the $\\cdots$ stand in for the neutrino energy density.  If neutrinos were always massive (say below $z\\sim 10$ in our Universe) then they could be lumped in with the matter term.  If they were always relativistic (say at $z\\sim 10^3$) they could be lumped in with the radiation.  Let us start with low $z$ just as a warm up."
   ]
  },
  {
   "cell_type": "code",
   "execution_count": null,
   "metadata": {},
   "outputs": [],
   "source": [
    "def chi(z,OmM=0.3):\n",
    "    \"\"\"A fairly dumb routine to compute the comoving distance to redshift z.\n",
    "       This is not how you'd actually code it -- but since astropy or various\n",
    "       Boltzmann codes have already \"coded\" it we can always use that when we\n",
    "       need to and just doing something dumb here!\"\"\"\n",
    "    Lhub=2997.925 # c/H0 in Mpc/h.\n",
    "    zp = np.linspace(0,z,5000)\n",
    "    Ez = np.sqrt( OmM*(1+zp)**3 + (1-OmM) )\n",
    "    cz = np.trapz(1.0/Ez,x=zp) * Lhub\n",
    "    return(cz)\n",
    "    #\n",
    "# Do some sanity checks -- should be about 2300Mpc/h.\n",
    "print(chi(1.0))"
   ]
  },
  {
   "cell_type": "markdown",
   "metadata": {},
   "source": [
    "It's not hard to add in some radiation, going as $(1+z)^4$, but what about the neutrinos?\n",
    "\n",
    "What if we want to find e.g. the distance to last scattering and so have to integrate **through** the time when they go from relativistic to non-relativistic? Then we need to be able to include the neutrino energy density."
   ]
  },
  {
   "cell_type": "markdown",
   "metadata": {},
   "source": [
    "### Neutrino energy density ###\n",
    "\n",
    "Neutrinos fall out of thermal equilibrium while they are still relativistic, at which point they have a Fermi-Dirac distribution (with $\\mu=0$ assumed).  After that point their momentum just shifts as $p\\propto (1+z)$ so they keep a F-D distribution of momenta but with a temperature falling as $T\\propto (1+z)$.  Thus the sum of the neutrino and photon energy densities is\n",
    "\\begin{equation}\n",
    "  \\rho_{\\gamma+\\nu} = \\frac{\\pi^2}{15} \\left[ T_{\\rm cmb}^4 +\n",
    "  T_\\nu^4 \\sum_i\\mathcal{J}\\left(\\frac{m_ic^2}{k_BT_\\nu}\\right)\\right]\n",
    "\\end{equation}\n",
    "for neutrinos of mass $m_i$ where $T_\\nu=(4/11)^{1/3}\\,T_{\\rm cmb}$, $T_{\\rm cmb}\\propto (1+z)$, and\n",
    "\\begin{equation}\n",
    "  \\mathcal{J}(r) = \\frac{15}{\\pi^4}\\int_0^\\infty x^2\\,dx\n",
    "  \\ \\frac{\\sqrt{x^2+r^2}}{e^x+1}\n",
    "\\end{equation}\n",
    "Straightforwardly $\\mathcal{J}(0)=7/8$, $\\mathcal{J}'(0)=0$:\n",
    "Setting $r=0$ gives the standard integral:\n",
    "\\begin{equation}\n",
    "  I_1(4) = \\int_0^\\infty\\frac{x^3\\,dx}{e^x+1}\n",
    "         = \\left[1-\\left(\\frac{1}{2}\\right)^3\\right]\\ \\Gamma(4)\\zeta(4)\n",
    "         = \\frac{7}{8} \\Gamma(4)\\frac{2^3\\pi^4B_2}{4!}\n",
    "         = \\frac{7}{8} \\frac{\\pi^4}{15}\n",
    "\\end{equation}\n",
    "so $\\mathcal{J}(0)=7/8$.  The fact that $\\mathcal{J}'(0)=0$ follows immediately from the $r^2$ dependence in the $\\sqrt{x^2+r^2}$.  Also $\\rho_\\nu\\propto a^{-3}$ when $r\\gg 1$.\n",
    "A Pade approximant to $\\mathcal{J}(r)$ can be written\n",
    "\\begin{equation}\n",
    "  \\mathcal{J}(r)\\simeq \\frac{a_0+a_1r+a_2r^2}{1+b_1r}\n",
    "\\end{equation}\n",
    "The expansion in powers of $1/r$ follows from\n",
    "\\begin{equation}\n",
    "  \\frac{\\mathcal{J}}{r} = \\int_0^\\infty\\frac{x^2\\,dx\\ \\sqrt{1+(x/r)^2}}{e^x+1}\n",
    "  = \\int_0^\\infty\\frac{x^2\\,dx\\ \\left(1+(1/2)(x/r)^2-(1/8)(x/r)^4+\\cdots\\right)}\n",
    "                      {e^x+1}\n",
    "\\end{equation}\n",
    "and using standard integrals:\n",
    "\\begin{equation}\n",
    "  \\frac{\\mathcal{J}}{r} \\simeq \\frac{45\\zeta(3)}{4\\pi^4} +\n",
    "  \\frac{675\\zeta(5)}{4\\pi^4}\\,\\frac{1}{r^2} -\n",
    "  \\frac{42525\\zeta(7)}{32\\pi^4}\\,\\frac{1}{r^4} + \\cdots\n",
    "  \\simeq 0.277675 + \\frac{1.79363}{r^2} - \\frac{13.7564}{r^4} + \\cdots\n",
    "\\end{equation}\n",
    "Since $\\mathcal{J}/r\\to$const as $r\\to\\infty$ we have\n",
    "$\\rho\\propto T^4r\\propto T^3m\\propto a^{-3}$.\n",
    "Finding the coefficients $a_i$ and $b_i$ is a simple matter of solving the simultaneous equations\n",
    "\\begin{equation}\n",
    "  a_0=\\frac{7}{8} \\quad , \\quad\n",
    "  a_1-a_0b_1 = 0 \\quad , \\quad\n",
    "  a_2 = 0.277675\\,b_1 \\quad , \\quad\n",
    "  a_1b_1-a_2 = 0\n",
    "\\end{equation}\n",
    "The solution of interest gives\n",
    "\\begin{equation}\n",
    "  \\mathcal{J}(r) \\approx \\frac{0.875+0.277675\\,r+0.0881182\\,r^2}\n",
    "                              {1+0.317343\\,r}\n",
    "\\end{equation}\n",
    "which matches $\\mathcal{J}(r)$ to better than $3\\%$ for all $r$, being worst for $r$ of a few.\n",
    "\n",
    "This may be good enough, given that neutrinos are a minority component when they become non-relativistic, but it is not too difficult to go to higher order if necessary."
   ]
  },
  {
   "cell_type": "code",
   "execution_count": null,
   "metadata": {},
   "outputs": [],
   "source": [
    "# Let's see how accurate this approximation is.\n",
    "# The exact integral.\n",
    "def exactJ(r):\n",
    "    \"\"\"Does the integral for J(r) numerically.\"\"\"\n",
    "    xx  = np.linspace(0,10,5000)\n",
    "    res = np.trapz( xx**2*np.sqrt(xx**2+r**2)/(np.exp(xx)+1),x=xx )\n",
    "    return( 15/np.pi**4 * res )\n",
    "# The Pade approximant\n",
    "num=np.poly1d([0.0881182,0.277675,0.875])\n",
    "den=np.poly1d([0.317343,1])\n",
    "# Look at the critical range near kT~mc^2.\n",
    "rr = np.logspace(-0.75,1.25,200)\n",
    "ex = np.array([exactJ(r) for r in rr])\n",
    "pa = num(rr)/den(rr)\n",
    "#\n",
    "err=np.abs(ex-pa)/ex\n",
    "print(\"Maximum error is {:8.4f}% at {:8.4f}\".format(100*np.max(err),rr[np.argmax(err)]))\n",
    "# Those who recall <p>=3.15 T for a FD particle may not be surprised at where the\n",
    "# error is maximal.\n",
    "# Now plot it.\n",
    "fig,ax = plt.subplots(1,1,figsize=(8,4))\n",
    "ax.plot(rr,ex,label='Exact')\n",
    "ax.plot(rr,pa,label='Pade')\n",
    "ax.legend()\n",
    "ax.set_xscale('log')\n",
    "ax.set_yscale('linear')\n",
    "ax.set_xlabel(r'$r$',fontsize=18)\n",
    "ax.set_ylabel(r'$\\mathcal{J}(r)$',fontsize=18)"
   ]
  },
  {
   "cell_type": "markdown",
   "metadata": {},
   "source": [
    "Is this good enough?  How big an error on $H(z)$ would we make?\n",
    "\n",
    "The current upper limit on $m_\\nu$ is around $0.1\\,$eV.  Let's assume a single massive species for now, with maximal mass, and two relativistic species with $N_{\\rm eff}=2.046$ kind-of-massless neutrinos."
   ]
  },
  {
   "cell_type": "code",
   "execution_count": null,
   "metadata": {},
   "outputs": [],
   "source": [
    "# Set up a cosmology with CDM+baryons, 1 massive neutrino and radiation\n",
    "# consisting of 2 massless neutrinos plus photons, and Lambda.\n",
    "Tcmb = 2.725 # K, today\n",
    "Tnu  = (4./11.)**(1./3.) * Tcmb\n",
    "print(\"Tnu={:.3f} K\".format(Tnu))\n",
    "hub  = 0.7   # one digit is enough for now.\n",
    "Omcb = 0.3   # one digit is enough for now.\n",
    "Omr  = 2.471e-5*(Tcmb/2.725)**4/hub**2*(1+2.046*7./8.*(4./11.)**(4./3.))\n",
    "#\n",
    "mnu  = 0.1   # eV\n",
    "Omnu = mnu/93.14/hub**2\n",
    "OmL  = (1.0-Omcb-Omnu)\n",
    "print(\"Om_cb={:f}, Om_nu={:f}, Om_r={:f}, OmL={:f}\".format(Omcb,Omnu,Omr,OmL))\n",
    "# At what z does the neutrino become non-relativistic?\n",
    "# Peak of FD is at 3.15 kT\n",
    "kB = 8.61733e-5 # eV/K\n",
    "znr= mnu/(3.15*kB*Tnu) - 1\n",
    "print(\"z_nr={:.1f}\".format(znr))"
   ]
  },
  {
   "cell_type": "code",
   "execution_count": null,
   "metadata": {},
   "outputs": [],
   "source": [
    "# Work out all of the densities at where our approximation is worst.\n",
    "# Scale all of the densities to rho_crit today.\n",
    "zz     = znr\n",
    "rho_cb = Omcb*(1+zz)**3\n",
    "rho_r  = Omr *(1+zz)**4\n",
    "rho_L  = OmL\n",
    "# Now the neutrinos.  It's actually easier to set the density at\n",
    "# high-z, where we know J(r)->7/8 than at lower z.\n",
    "Omnu   = 2.471e-5*(Tnu/2.725)**4/hub**2\n",
    "rr     = mnu/kB/Tnu/(1+zz)\n",
    "rho_nu = Omnu * (1+zz)**4 * num(rr)/den(rr)\n",
    "rho_T  = rho_cb + rho_r + rho_L + rho_nu\n",
    "#\n",
    "print(\"Massive neutrino fraction at z={:.1f} is {:12.4e}\".format(zz,rho_nu/rho_T))"
   ]
  },
  {
   "cell_type": "code",
   "execution_count": null,
   "metadata": {},
   "outputs": [],
   "source": [
    "# Let's plot this as a function of z.\n",
    "zz = np.logspace(0.0,3.7,100)\n",
    "rho_cb = Omcb*(1+zz)**3\n",
    "rho_r  = Omr *(1+zz)**4\n",
    "rho_L  = OmL\n",
    "# Now the neutrinos.\n",
    "Omnu   = 2.471e-5*(Tnu/2.725)**4/hub**2\n",
    "rr     = mnu/kB/Tnu/(1+zz)\n",
    "rho_nu = Omnu * (1+zz)**4 * num(rr)/den(rr)\n",
    "rho_T  = rho_cb + rho_r + rho_L + rho_nu\n",
    "#\n",
    "fig,ax = plt.subplots(1,1)\n",
    "ax.plot(zz,rho_cb/rho_T,'k:',label=r'$c+b$')\n",
    "ax.plot(zz,rho_nu/rho_T,'m:',label=r'$\\nu$')\n",
    "ax.plot(zz,rho_r /rho_T,'r:',label=r'rad')\n",
    "ax.plot(zz,rho_L /rho_T,'b:',label=r'$\\Lambda$')\n",
    "ax.legend()\n",
    "ax.set_xscale('log')\n",
    "ax.set_yscale('log')\n",
    "ax.set_ylim(1e-4,1.3)\n",
    "ax.set_xlabel('$z$',fontsize=18)\n",
    "ax.set_ylabel('$\\Omega_i$',fontsize=18)"
   ]
  },
  {
   "cell_type": "markdown",
   "metadata": {},
   "source": [
    "So we'd be making a 3% error on a component which is 1% of the contribution to $H(z)$ at the worst case.  And for most of the rest of the integral we'd be making a smaller error (and we'd be asymptotically accurate).  So this is probably good enough for our purposes."
   ]
  },
  {
   "cell_type": "code",
   "execution_count": null,
   "metadata": {},
   "outputs": [],
   "source": [
    "# Putting this together, let's compute chi(z) including massive neutrinos.\n",
    "def chi(z,OmM=0.3,mnu=0.1,hub=0.7):\n",
    "    num  = np.poly1d([0.0881182,0.277675,0.875])\n",
    "    den  = np.poly1d([0.317343,1])\n",
    "    Lhub = 2997.925   # Mpc/h\n",
    "    kB   = 8.61733e-5 # eV/K\n",
    "    Tcmb = 2.725 # K, today\n",
    "    Tnu  = (4./11.)**(1./3.) * Tcmb\n",
    "    Omr  = 2.471e-5*(Tcmb/2.725)**4/hub**2*(1+2.046*7./8.*(4./11.)**(4./3.))\n",
    "    Omnu = 2.471e-5*(Tnu /2.725)**4/hub**2  # Not the z=0 value!!!\n",
    "    Omcb = OmM - Omnu*num(mnu/kB/Tnu)/den(mnu/kB/Tnu)\n",
    "    OmL  = 1.0-OmM-Omr\n",
    "    #\n",
    "    zp     = np.linspace(0.0,z,5000)\n",
    "    rr     = mnu/kB/Tnu/(1+zp)\n",
    "    rho_cb = Omcb*(1+zp)**3\n",
    "    rho_r  = Omr *(1+zp)**4\n",
    "    rho_nu = Omnu*(1+zp)**4 * num(rr)/den(rr)\n",
    "    rho_L  = OmL\n",
    "    Ez     = np.sqrt(rho_cb+rho_r+rho_nu+rho_L)\n",
    "    chival = np.trapz(1/Ez,x=zp) * Lhub\n",
    "    return(chival)\n",
    "    #\n",
    "print(chi(1.0),\" c.f. previous value\")"
   ]
  },
  {
   "cell_type": "markdown",
   "metadata": {},
   "source": [
    "If we wanted to go to higher redshift doing the integral over $z$ the way it's done above isn't very clever.  Rather than do something intelligent, like switch integration methods, I'll just hammer the Trapezoidal rule but in $\\ln(1+z)$."
   ]
  },
  {
   "cell_type": "code",
   "execution_count": null,
   "metadata": {},
   "outputs": [],
   "source": [
    "def chi(z,OmM=0.3,mnu=0.1,hub=0.7):\n",
    "    \"\"\"Uses a ln(1+z) integration instead.\"\"\"\n",
    "    num  = np.poly1d([0.0881182,0.277675,0.875])\n",
    "    den  = np.poly1d([0.317343,1])\n",
    "    Lhub = 2997.925   # Mpc/h\n",
    "    kB   = 8.61733e-5 # eV/K\n",
    "    Tcmb = 2.725 # K, today\n",
    "    Tnu  = (4./11.)**(1./3.) * Tcmb\n",
    "    Omr  = 2.471e-5*(Tcmb/2.725)**4/hub**2*(1+2.046*7./8.*(4./11.)**(4./3.))\n",
    "    Omnu = 2.471e-5*(Tnu /2.725)**4/hub**2  # Not the z=0 value!!!\n",
    "    Omcb = OmM - Omnu*num(mnu/kB/Tnu)/den(mnu/kB/Tnu)\n",
    "    OmL  = 1.0-OmM-Omr\n",
    "    #\n",
    "    lnzp1  = np.linspace(0.0,np.log(1+z),10000)\n",
    "    zp1    = np.exp(lnzp1)\n",
    "    rr     = mnu/kB/Tnu/zp1\n",
    "    rho_cb = Omcb*(zp1)**3\n",
    "    rho_r  = Omr *(zp1)**4\n",
    "    rho_nu = Omnu*(zp1)**4 * num(rr)/den(rr)\n",
    "    rho_L  = OmL\n",
    "    Ez     = np.sqrt(rho_cb+rho_r+rho_nu+rho_L)\n",
    "    chival = np.trapz(zp1/Ez,x=lnzp1) * Lhub\n",
    "    return(chival)\n",
    "    #\n",
    "print(chi(1.0),\" c.f. previous value\")"
   ]
  },
  {
   "cell_type": "code",
   "execution_count": null,
   "metadata": {
    "scrolled": true
   },
   "outputs": [],
   "source": [
    "# Now plot the ratio of massive neutrinos to no-massive-neutrinos (fiducial) vs. redshift.\n",
    "zp1  = np.logspace(0.1,4.0,100)\n",
    "nchi = np.array([chi(z,0.3,0.1,0.7) for z in zp1-1])\n",
    "fchi = np.array([chi(z,0.3,0.0,0.7) for z in zp1-1])\n",
    "#\n",
    "fig,ax = plt.subplots(1,1,figsize=(8,4.5))\n",
    "ax.plot(zp1,100*(nchi/fchi-1),'b-')\n",
    "ax.set_xscale('log')\n",
    "ax.set_xlabel(r'$1+z$',fontsize=18)\n",
    "ax.set_ylabel(r'Frac.Diff. (%)',fontsize=18)"
   ]
  },
  {
   "cell_type": "markdown",
   "metadata": {},
   "source": [
    "So this difference is really tiny -- almost negligible.  However it does depend upon what we've decided to hold fixed.  In the above I assumed that $\\omega_{c+b+\\nu}$ was specified (today).  In reality we're probably measuring the $\\omega_i$ from the shapes of the CMB peaks.  Those are set by the dynamics at $z>10^3$, in which case we should really be holding fixed $\\omega_{c+b}$ (since the $\\nu$ are relativistic at $z\\sim 10^3$).  What does this do?"
   ]
  },
  {
   "cell_type": "code",
   "execution_count": null,
   "metadata": {},
   "outputs": [],
   "source": [
    "def chi(z,Omcb=0.3,mnu=0.1,hub=0.7):\n",
    "    \"\"\"Uses a ln(1+z) integration instead.\"\"\"\n",
    "    num  = np.poly1d([0.0881182,0.277675,0.875])\n",
    "    den  = np.poly1d([0.317343,1])\n",
    "    Lhub = 2997.925   # Mpc/h\n",
    "    kB   = 8.61733e-5 # eV/K\n",
    "    Tcmb = 2.725 # K, today\n",
    "    Tnu  = (4./11.)**(1./3.) * Tcmb\n",
    "    Omr  = 2.471e-5*(Tcmb/2.725)**4/hub**2*(1+2.046*7./8.*(4./11.)**(4./3.))\n",
    "    Omnu = 2.471e-5*(Tnu /2.725)**4/hub**2  # Not the z=0 value!!!\n",
    "    OmM  = Omcb + Omnu*num(mnu/kB/Tnu)/den(mnu/kB/Tnu)\n",
    "    OmL  = 1.0-OmM-Omr\n",
    "    #\n",
    "    lnzp1  = np.linspace(0.0,np.log(1+z),10000)\n",
    "    zp1    = np.exp(lnzp1)\n",
    "    rr     = mnu/kB/Tnu/zp1\n",
    "    rho_cb = Omcb*(zp1)**3\n",
    "    rho_r  = Omr *(zp1)**4\n",
    "    rho_nu = Omnu*(zp1)**4 * num(rr)/den(rr)\n",
    "    rho_L  = OmL\n",
    "    Ez     = np.sqrt(rho_cb+rho_r+rho_nu+rho_L)\n",
    "    chival = np.trapz(zp1/Ez,x=lnzp1) * Lhub\n",
    "    return(chival)\n",
    "    #\n",
    "#\n",
    "# Now plot the ratio of massive neutrinos to no-massive-neutrinos (fiducial) vs. redshift.\n",
    "zp1  = np.logspace(0.1,4.0,100)\n",
    "nchi = np.array([chi(z,0.3,0.1,0.7) for z in zp1-1])\n",
    "fchi = np.array([chi(z,0.3,0.0,0.7) for z in zp1-1])\n",
    "#\n",
    "fig,ax = plt.subplots(1,1,figsize=(8,5))\n",
    "ax.plot(zp1,100*(nchi/fchi-1),'b-')\n",
    "ax.set_xscale('log')\n",
    "ax.set_xlabel(r'$1+z$',fontsize=18)\n",
    "ax.set_ylabel(r'Frac.Diff. (%)',fontsize=18)"
   ]
  },
  {
   "cell_type": "markdown",
   "metadata": {},
   "source": [
    "This isn't a massive effect, but it's significantly larger than holding $\\omega_{c+b+\\nu}$ fixed!  Since the distance to last scattering is **so** well measured, this starts to have an effect!"
   ]
  }
 ],
 "metadata": {
  "kernelspec": {
   "display_name": "Python 3",
   "language": "python",
   "name": "python3"
  },
  "language_info": {
   "codemirror_mode": {
    "name": "ipython",
    "version": 3
   },
   "file_extension": ".py",
   "mimetype": "text/x-python",
   "name": "python",
   "nbconvert_exporter": "python",
   "pygments_lexer": "ipython3",
   "version": "3.6.7"
  }
 },
 "nbformat": 4,
 "nbformat_minor": 2
}
