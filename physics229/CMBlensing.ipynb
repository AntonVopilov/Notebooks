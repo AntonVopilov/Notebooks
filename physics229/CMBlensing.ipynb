{
 "cells": [
  {
   "cell_type": "code",
   "execution_count": null,
   "metadata": {},
   "outputs": [],
   "source": [
    "import numpy as np\n",
    "import matplotlib.pyplot as plt\n",
    "%matplotlib inline"
   ]
  },
  {
   "cell_type": "markdown",
   "metadata": {},
   "source": [
    "## CMB lensing ##\n",
    "\n",
    "Lensing kernel vs. z.\n",
    "Look at linear vs. nonlinear P(k,z).\n",
    "Look at cumulative C_l^kk.\n",
    "\n",
    "Other figures from Hanson/Challinor/etc reviews?"
   ]
  },
  {
   "cell_type": "markdown",
   "metadata": {},
   "source": [
    "### CLASS ###\n",
    "\n",
    "We'll be using the [Cosmic Linear Anisotropy Solving System](http://class-code.net/) (CLASS) Boltzmann code to compute the $P(k,z)$ which goes into our integrals.\n",
    "\n",
    "There are two \"commonly used\" codes which evolve the linearized perturbation equations for cosmology.  These are highly useful tools for working in the CMB or large-scale structure.  The CLASS code is very well documented and maintained, and a public version is avaialble [at this GitHub repo](https://github.com/lesgourg/class_public), making it easy to keep up to date (or to contribute!).\n",
    "\n",
    "If you clone the repository, e.g. with\n",
    "`git clone https://github.com/lesgourg/class_public class`\n",
    "then you can just go into the class directory and \"make\" the code.  I've never had a problem with this on any machine that a few edits to the Makefile didn't fix.  If you want to install the Python interface just go into the Python directory and use `python setup.py install`.  On the datahub you can install as root so you don't need the `--user`, otherwise you can use your own system.  There is also a `Conda` version if you use an Anaconda python distribution."
   ]
  },
  {
   "cell_type": "code",
   "execution_count": null,
   "metadata": {},
   "outputs": [],
   "source": [
    "# Import the Class class.\n",
    "from classy import Class"
   ]
  },
  {
   "cell_type": "code",
   "execution_count": null,
   "metadata": {},
   "outputs": [],
   "source": [
    "# Define the cosmology (what is not specified will be set to CLASS default parameters).\n",
    "# We'll use the \"Planck 2018 cosmology\" (plus BAO), defined in the right-hand column\n",
    "# of Table 6 in https://arxiv.org/pdf/1807.06205.pdf\n",
    "# We'll ask for matter P(k), using the HaloFit non-linear power spectrum fitting\n",
    "# function, between z=0 and 10:\n",
    "params = {\n",
    "    'output': 'mPk',\n",
    "    'P_k_max_h/Mpc': 20.,\n",
    "    'non linear': 'halofit',\n",
    "    'z_pk': '0.0,10.0',\n",
    "    'lensing': 'no',\n",
    "    'A_s': np.exp(3.040)*1e-10,\n",
    "    'n_s': 0.96824,\n",
    "    'h': 0.6770,\n",
    "    'N_ur': 2.0328,\n",
    "    'N_ncdm': 1,\n",
    "    'm_ncdm': 0.06,\n",
    "    'tau_reio': 0.0568,\n",
    "    'omega_b': 0.022447,\n",
    "    'omega_cdm': 0.11923}\n",
    "#\n",
    "# Create an instance of the CLASS wrapper, set the parameters and\n",
    "# run the code. It should take no more than a few seconds...\n",
    "cosmo = Class()\n",
    "cosmo.set(params)\n",
    "cosmo.compute()"
   ]
  },
  {
   "cell_type": "code",
   "execution_count": null,
   "metadata": {},
   "outputs": [],
   "source": [
    "# And it has lots of other things it can tell you...\n",
    "print(\"sig8={:.3f}\".format(cosmo.sigma8()))\n",
    "#\n",
    "cosmo.get_current_derived_parameters(['H0','Omega_m','Omega_Lambda','age'])"
   ]
  },
  {
   "cell_type": "code",
   "execution_count": null,
   "metadata": {},
   "outputs": [],
   "source": [
    "# We can also do things like the growth factor and growth rate.\n",
    "for zz in np.arange(0.0,2.51,0.5):\n",
    "    print(\"At z={:4.1f}, D(z)={:8.4f}, f(z)={:8.4f}\".\\\n",
    "          format(zz,cosmo.scale_independent_growth_factor(zz),\\\n",
    "                 cosmo.scale_independent_growth_factor_f(zz)))"
   ]
  },
  {
   "cell_type": "code",
   "execution_count": null,
   "metadata": {},
   "outputs": [],
   "source": [
    "# Going back to our fiducial model we can also look at the matter power spectrum:\n",
    "zz = 1.0\n",
    "kk = np.logspace(-3.0,1.0,100)\n",
    "pk = np.array( [cosmo.pk(k,zz) for k in kk] )"
   ]
  }
 ],
 "metadata": {
  "kernelspec": {
   "display_name": "Python 3",
   "language": "python",
   "name": "python3"
  },
  "language_info": {
   "codemirror_mode": {
    "name": "ipython",
    "version": 3
   },
   "file_extension": ".py",
   "mimetype": "text/x-python",
   "name": "python",
   "nbconvert_exporter": "python",
   "pygments_lexer": "ipython3",
   "version": "3.6.7"
  }
 },
 "nbformat": 4,
 "nbformat_minor": 2
}
