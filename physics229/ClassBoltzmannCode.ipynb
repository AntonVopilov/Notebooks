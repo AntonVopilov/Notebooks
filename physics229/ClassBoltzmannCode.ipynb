{
 "cells": [
  {
   "cell_type": "code",
   "execution_count": null,
   "metadata": {},
   "outputs": [],
   "source": [
    "import numpy as np\n",
    "import matplotlib.pyplot as plt\n",
    "%matplotlib inline"
   ]
  },
  {
   "cell_type": "markdown",
   "metadata": {},
   "source": [
    "## CLASS Boltzmann code ##\n",
    "\n",
    "There are two \"commonly used\" codes which evolve the linearized perturbation equations for cosmology.  These are highly useful tools for working in the CMB or large-scale structure, so here I introduce one of them: the [Cosmic Linear Anisotropy Solving System](http://class-code.net/).  This code is very well documented and maintained, and a public version is avaialble [at this GitHub repo](https://github.com/lesgourg/class_public), making it easy to keep up to date (or to contribute!).\n",
    "\n",
    "If you clone the repository, e.g. with\n",
    "`git clone https://github.com/lesgourg/class_public class`\n",
    "then you can just go into the class directory and \"make\" the code.  I've never had a problem with this on any machine that a few edits to the Makefile didn't fix.  If you want to install the Python interface just go into the Python directory and use `python setup.py install`.  On the datahub you can install as root so you don't need the `--user`, otherwise you can use your own system.  There is also a `Conda` version if you use an Anaconda python distribution.\n",
    "\n",
    "Though we won't use it here, the CLASS code also interfaces with the [MontePython](https://github.com/brinckmann/montepython_public) Markov Chain Monte Carlo and parameter extraction software.  Unfortunately last I checked this code was stuck on Python2, so you won't be able to use it on a modern platform (e.g. `datahub.berkeley.edu`)"
   ]
  },
  {
   "cell_type": "code",
   "execution_count": null,
   "metadata": {},
   "outputs": [],
   "source": [
    "# Import the Class class.\n",
    "from classy import Class"
   ]
  },
  {
   "cell_type": "code",
   "execution_count": null,
   "metadata": {},
   "outputs": [],
   "source": [
    "# Here's the basic workflow from within Python:\n",
    "#\n",
    "# Define the cosmology (what is not specified will be set to CLASS default parameters).\n",
    "# We'll use the \"Planck 2018 cosmology\" (plus BAO), defined in the right-hand column\n",
    "# of Table 6 in https://arxiv.org/pdf/1807.06205.pdf\n",
    "# We'll ask for CMB temperature anisotropy spectra, lensed spectra and matter P(k):\n",
    "params = {\n",
    "    'output': 'tCl lCl mPk',\n",
    "    'l_max_scalars': 2000,\n",
    "    'P_k_max_h/Mpc': 20.,\n",
    "    'lensing': 'yes',\n",
    "    'A_s': np.exp(3.040)*1e-10,\n",
    "    'n_s': 0.96824,\n",
    "    'h': 0.6770,\n",
    "    'N_ur': 2.0328,\n",
    "    'N_ncdm': 1,\n",
    "    'm_ncdm': 0.06,\n",
    "    'tau_reio': 0.0568,\n",
    "    'omega_b': 0.022447,\n",
    "    'omega_cdm': 0.11923}  \n",
    "# Could have specified z_reio instead of tau_reio.\n",
    "#\n",
    "# Create an instance of the CLASS wrapper\n",
    "cosmo = Class()\n",
    "#\n",
    "# Set the parameters to the cosmological code\n",
    "cosmo.set(params)\n",
    "#\n",
    "# Run the whole code. How long this takes depends upon how\n",
    "# many quantities you ask for.  For instance, without any\n",
    "# 'output' requested, CLASS will only compute background quantities,\n",
    "# thus running almost instantaneously.  In our case it should\n",
    "# take a few seconds to run.\n",
    "cosmo.compute()"
   ]
  },
  {
   "cell_type": "code",
   "execution_count": null,
   "metadata": {
    "scrolled": true
   },
   "outputs": [],
   "source": [
    "# The code gives us a whole lot of background cosmology information.\n",
    "# This is similar in spirit to the astropy routines.\n",
    "# Let's get the luminosity distance to z=1:\n",
    "print(\"dL={:.2f}\".format(cosmo.luminosity_distance(1.0)))\n",
    "# Or the \"angular\" distance:\n",
    "print(\"dA={:.2f}\".format(cosmo.angular_distance(1.0)))"
   ]
  },
  {
   "cell_type": "code",
   "execution_count": null,
   "metadata": {},
   "outputs": [],
   "source": [
    "# And it has lots of other things it can tell you...\n",
    "cosmo.get_current_derived_parameters(['H0','Omega_m','Omega_Lambda',\\\n",
    "                                      'age','conformal_age','Neff',\\\n",
    "                                      'z_reio','100*theta_s','rs_rec','rs_d'])"
   ]
  },
  {
   "cell_type": "code",
   "execution_count": null,
   "metadata": {},
   "outputs": [],
   "source": [
    "# We can also do things like the growth factor and growth rate.\n",
    "for zz in np.arange(0.0,2.51,0.5):\n",
    "    print(\"At z={:4.1f}, D(z)={:8.4f}, f(z)={:8.4f}\".\\\n",
    "          format(zz,cosmo.scale_independent_growth_factor(zz),\\\n",
    "                 cosmo.scale_independent_growth_factor_f(zz)))"
   ]
  },
  {
   "cell_type": "code",
   "execution_count": null,
   "metadata": {},
   "outputs": [],
   "source": [
    "# We can also get lots of \"thermodynamics\" parameters.  For example,\n",
    "# here's a plot of the ionization fraction (x_e) versus redshift\n",
    "# and the visibility function (probability a photon scatters per\n",
    "# unit length) vs. redshift.\n",
    "thermo = cosmo.get_thermodynamics()\n",
    "#\n",
    "fig,ax = plt.subplots(1,2,figsize=(12,4))\n",
    "ax[0].plot(thermo['z'],thermo['x_e'])\n",
    "ax[0].set_xlim([0.0,2500.0])\n",
    "ax[0].set_xlabel(r'Redshift ($z$)',fontsize=18)\n",
    "ax[0].set_ylabel(r'Ionization ($x_e$)',fontsize=18)\n",
    "#\n",
    "ax[1].plot(thermo['z'],thermo['g [Mpc^-1]'])\n",
    "ax[1].set_xlim([500.0,1350.0])\n",
    "ax[1].set_xlabel(r'Redshift ($z$)',fontsize=18)\n",
    "ax[1].set_ylabel(r'Visibility function',fontsize=18)\n",
    "# You can also do it vs. conformal time, or plot the differential\n",
    "# optical depth etc.\n",
    "print(thermo.keys())"
   ]
  },
  {
   "cell_type": "code",
   "execution_count": null,
   "metadata": {},
   "outputs": [],
   "source": [
    "# Access the lensed cl until l=2000\n",
    "cls = cosmo.lensed_cl(2000)"
   ]
  },
  {
   "cell_type": "code",
   "execution_count": null,
   "metadata": {
    "scrolled": false
   },
   "outputs": [],
   "source": [
    "# Plot the temperature C_l's just to show we've got this working.\n",
    "fig,ax = plt.subplots(1,1,figsize=(8,4.5))\n",
    "ell = cls['ell'][2:]  # Start at the quadrupole.\n",
    "fac = ell*(ell+1)/(2*np.pi)\n",
    "ax.plot(ell,fac*cls['tt'][2:])\n",
    "ax.set_xscale('log')\n",
    "ax.set_xlabel(r'Multiple $\\ell$',fontsize=18)\n",
    "ax.set_ylabel(r'$\\ell(\\ell+1)C_\\ell/(2\\pi)$',fontsize=18)"
   ]
  },
  {
   "cell_type": "code",
   "execution_count": null,
   "metadata": {},
   "outputs": [],
   "source": [
    "# We can compare the spectra with and without lensing:\n",
    "lcls = cosmo.lensed_cl(2000)\n",
    "ucls = cosmo.raw_cl(2000)\n",
    "#\n",
    "fig,ax = plt.subplots(2,1,figsize=(8,8),sharex=True,gridspec_kw={'height_ratios':[3,2]})\n",
    "ell = lcls['ell'][2:]  # Start at the quadrupole.\n",
    "fac = ell*(ell+1)/(2*np.pi)\n",
    "ax[0].plot(ell,fac*lcls['tt'][2:],'r--',label='Lensed')\n",
    "ax[0].plot(ell,fac*ucls['tt'][2:],'b:',label='Unlensed')\n",
    "ax[0].legend()\n",
    "ax[0].set_xscale('log')\n",
    "ax[0].set_ylabel(r'$\\ell(\\ell+1)C_\\ell/(2\\pi)$',fontsize=18)\n",
    "#\n",
    "ax[1].plot(ell,lcls['tt'][2:]/ucls['tt'][2:])\n",
    "ax[1].set_ylabel(r'Ratio',fontsize=18)\n",
    "ax[1].set_xlabel(r'Multiple $\\ell$',fontsize=18)"
   ]
  },
  {
   "cell_type": "markdown",
   "metadata": {},
   "source": [
    "## Varying parameters ##\n",
    "\n",
    "The computation of \"linear theory\" quantities is no longer cutting edge research cosmology, but the flip side of this is that most people specializing in cosmology are expected to know how things like the matter power spectrum or CMB spectra change as the basic cosmological parameters are varied.  You can experiment with this easily now, and see whether you can understand why the curves move the way they do."
   ]
  },
  {
   "cell_type": "code",
   "execution_count": null,
   "metadata": {},
   "outputs": [],
   "source": [
    "# Let's do a high-baryon example for comparison -- I'll increase omegab by 0.001 and\n",
    "# decrease omegacdm by the same amount (to hold omegam fixed).\n",
    "hib = Class()\n",
    "hib.set({'output': 'tCl lCl mPk','l_max_scalars': 2000,'lensing': 'yes',\\\n",
    "         'A_s': np.exp(3.040)*1e-10,'n_s': 0.96824,'h': 0.6770,\\\n",
    "         'tau_reio': 0.0568,'omega_b': 0.023447,'omega_cdm': 0.11823,\\\n",
    "         'N_ur': 2.0328,'N_ncdm': 1,'m_ncdm': 0.06})\n",
    "hib.compute()\n",
    "#\n",
    "cl1 = cosmo.lensed_cl(2000)\n",
    "cl2 = hib.lensed_cl(2000)\n",
    "#\n",
    "fig,ax = plt.subplots(1,1,figsize=(8,4))\n",
    "ell = cl1['ell'][2:]  # Start at the quadrupole.\n",
    "fac = ell*(ell+1)/(2*np.pi)\n",
    "ax.plot(ell,fac*cl1['tt'][2:],'b-',label='Fiducial')\n",
    "ax.plot(ell,fac*cl2['tt'][2:],'m-',label='HighB')\n",
    "ax.legend()\n",
    "ax.set_xscale('log')\n",
    "ax.set_xlabel(r'Multiple $\\ell$',fontsize=18)\n",
    "ax.set_ylabel(r'$\\ell(\\ell+1)C_\\ell/(2\\pi)$',fontsize=18)"
   ]
  },
  {
   "cell_type": "code",
   "execution_count": null,
   "metadata": {
    "scrolled": true
   },
   "outputs": [],
   "source": [
    "# Going back to our fiducial model we can also look at the matter power spectrum:\n",
    "zz = 0.0\n",
    "kk = np.logspace(-3.0,1.0,100)\n",
    "pk = np.array( [cosmo.pk(k*params['h'],zz)*params['h']**3 for k in kk] )\n",
    "#\n",
    "fig,ax = plt.subplots(1,1,figsize=(6,4.5))\n",
    "ax.plot(kk,pk)\n",
    "ax.set_xscale('log')\n",
    "ax.set_yscale('log')\n",
    "ax.set_xlabel(r'$k\\quad [h\\,{\\rm Mpc}^{-1}]$',fontsize=18)\n",
    "ax.set_ylabel(r'$P(k)\\quad [h^{-3}{\\rm Mpc}^3]$',fontsize=18)\n",
    "#\n",
    "print(\"sigma8={:6.3f}\".format(cosmo.sigma8()))"
   ]
  },
  {
   "cell_type": "markdown",
   "metadata": {},
   "source": [
    "If you wanted to look at the power spectrum at $z\\ne 0$ then you can specify the range of interest using the `z_pk` keyword, which takes a string as in\n",
    "```\n",
    "'z_pk': '0.0,10'\n",
    "```\n",
    "to ask for $0\\le z\\le 10$."
   ]
  },
  {
   "cell_type": "markdown",
   "metadata": {},
   "source": [
    "## Massive neutrinos ##\n",
    "\n",
    "Now we can play with the effect of massive neutrinos on the matter power spectrum."
   ]
  },
  {
   "cell_type": "code",
   "execution_count": null,
   "metadata": {},
   "outputs": [],
   "source": [
    "params = {'output': 'tCl lCl mPk',\\\n",
    "          'l_max_scalars': 2000,'P_k_max_h/Mpc': 25.,'lensing': 'yes',\\\n",
    "          'A_s': np.exp(3.040)*1e-10,'n_s': 0.96824,'h': 0.6770,\\\n",
    "          'tau_reio': 0.0568,'omega_b': 0.022447,'omega_cdm': 0.11923,\\\n",
    "          'N_ur': 2.0328,'N_ncdm': 1}\n",
    "NH = Class()\n",
    "NH.set(params)\n",
    "NH.set({'m_ncdm': 0.06})\n",
    "NH.compute()\n",
    "# inverted hierarchy\n",
    "IH = Class()\n",
    "IH.set(params)\n",
    "IH.set({'m_ncdm': 0.10})\n",
    "IH.compute()"
   ]
  },
  {
   "cell_type": "code",
   "execution_count": null,
   "metadata": {
    "scrolled": true
   },
   "outputs": [],
   "source": [
    "kk  = np.logspace(-3.0,1.0,100)\n",
    "Pnh = np.array([NH.pk(k,0.0) for k in kk])\n",
    "Pih = np.array([IH.pk(k,0.0) for k in kk])\n",
    "#\n",
    "fig,ax = plt.subplots(1,1,figsize=(6,4))\n",
    "ax.plot(kk,Pih/Pnh)\n",
    "ax.set_xscale('log')\n",
    "ax.set_xlabel(r'$k\\quad [h\\,{\\rm Mpc}^{-1}]$',fontsize=18)\n",
    "ax.set_ylabel(r'Ratio',fontsize=18)"
   ]
  },
  {
   "cell_type": "markdown",
   "metadata": {},
   "source": [
    "## Tensor modes ##\n",
    "\n",
    "Finally, let's look at how primordial tensor modes show up."
   ]
  },
  {
   "cell_type": "code",
   "execution_count": null,
   "metadata": {},
   "outputs": [],
   "source": [
    "params = {'output': 'tCl, pCl, lCl', 'modes':'s,t',\n",
    "    'l_max_scalars': 2000, 'l_max_tensors': 1000,\n",
    "    'lensing': 'yes',\n",
    "    'r': 0.01,\n",
    "    'A_s': np.exp(3.040)*1e-10,\n",
    "    'n_s': 0.96824, \n",
    "    'h': 0.6770,\n",
    "    'N_ur': 2.0328,\n",
    "    'N_ncdm': 1,\n",
    "    'm_ncdm': 0.06,\n",
    "    'tau_reio': 0.0568,\n",
    "    'omega_b': 0.022447,\n",
    "    'omega_cdm': 0.11923}\n",
    "T = Class()\n",
    "T.set(params)\n",
    "T.compute()\n",
    "#\n",
    "cl_tot = T.raw_cl(2000)\n",
    "cl_lensed = T.lensed_cl(2000)"
   ]
  },
  {
   "cell_type": "code",
   "execution_count": null,
   "metadata": {},
   "outputs": [],
   "source": [
    "# Extract the lensed spectra, starting from the quadrupole:\n",
    "ell = cl_lensed['ell'][2:]\n",
    "ClTT= cl_lensed[ 'tt'][2:]\n",
    "ClTE= cl_lensed[ 'te'][2:]\n",
    "ClEE= cl_lensed[ 'ee'][2:]\n",
    "ClBB= cl_lensed[ 'bb'][2:]\n",
    "fac = ell*(ell+1.0)/(2*np.pi)\n",
    "ClTE= np.abs(ClTE)\n",
    "# Add the primordial, unlensed, B modes.\n",
    "rawB= cl_tot['bb'][2:]\n",
    "# Now make a plot.\n",
    "fig,ax = plt.subplots(1,1,figsize=(8,5))\n",
    "ax.plot(ell,fac*ClTT,'k-' ,label='TT')\n",
    "ax.plot(ell,fac*ClTE,'m--',label='TE')\n",
    "ax.plot(ell,fac*ClEE,'r:' ,label='EE')\n",
    "ax.plot(ell,fac*ClBB,'b-' ,label='BB')\n",
    "ax.plot(ell,fac*rawB,'c--',label='pB')\n",
    "ax.legend()\n",
    "ax.set_xscale('log')\n",
    "ax.set_yscale('log')\n",
    "ax.set_xlim(2,2000)\n",
    "ax.set_ylim(3e-18,1e-9)\n",
    "ax.set_xlabel(r'Multipole ($\\ell$)',fontsize=18)\n",
    "ax.set_ylabel(r'$\\ell(\\ell+1)C_\\ell/(2\\pi)$',fontsize=18)"
   ]
  },
  {
   "cell_type": "markdown",
   "metadata": {},
   "source": [
    "## Alternatives ##\n",
    "\n",
    "The other commonly used Boltzmann code is [CAMB](https://camb.info/), written in Fortran and not as easily available (but pretty close).  CAMB is widely used because it interfaces naturally with [CosmoMC](https://cosmologist.info/cosmomc/) which is one of the standard Monte-Carlo sampling packages used in the field.  One of the huge advantages of CosmoMC over other packages is that over the years many experimental collaborations have released \"CosmoMC wrappers\" for their likelihoods and data, making it relatively easy to incorporate multiple data sets into an analysis."
   ]
  }
 ],
 "metadata": {
  "kernelspec": {
   "display_name": "Python 3",
   "language": "python",
   "name": "python3"
  },
  "language_info": {
   "codemirror_mode": {
    "name": "ipython",
    "version": 3
   },
   "file_extension": ".py",
   "mimetype": "text/x-python",
   "name": "python",
   "nbconvert_exporter": "python",
   "pygments_lexer": "ipython3",
   "version": "3.6.7"
  }
 },
 "nbformat": 4,
 "nbformat_minor": 2
}
