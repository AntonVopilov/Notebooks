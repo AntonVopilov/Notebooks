{
 "cells": [
  {
   "cell_type": "code",
   "execution_count": 1,
   "metadata": {},
   "outputs": [],
   "source": [
    "import numpy as np\n",
    "import matplotlib.pyplot as plt\n",
    "%matplotlib inline"
   ]
  },
  {
   "cell_type": "markdown",
   "metadata": {},
   "source": [
    "## Low order ODE integrators ##\n",
    "\n",
    "Sometimes it is better to use a low order ODE integrator and just hammer the number of steps, rather than a higher order integrator that requires fewer function calls.  The \"workhorse\" integrator for ODE's is probably the [fourth order Runge-Kutta method](https://en.wikipedia.org/wiki/Runge%E2%80%93Kutta_methods), colloquially known as [RK4](https://en.wikipedia.org/wiki/List_of_Runge%E2%80%93Kutta_methods).  The lowest order method is Euler's method, which is normally introduced primarily to show how bad it is!  Here let's look at two methods which are second order and involve two derivative evaluations.\n",
    "\n",
    "We are interested in the solution of the ODE\n",
    "$$\n",
    "\\frac{d\\vec{y}}{dt} = f(t,\\vec{y})\n",
    "$$\n",
    "given (well posed) initial values $\\vec{y}(t_0)$.  We imagine taking steps, of size $h$, in $t$ and updating $\\vec{y}$ through a sequence of values $\\vec{y}_0$, $\\vec{y}_1$, ..., etc."
   ]
  },
  {
   "cell_type": "markdown",
   "metadata": {},
   "source": [
    "### Midpoint method ###\n",
    "\n",
    "Perhaps the most obvious second order method (related to the \"leap frog\" method for symplectic systems) is the [midpoint method](https://en.wikipedia.org/wiki/Midpoint_method).  Here we use Euler's method to get an estimate for $\\vec{y}$ at the midpoint of the interval, then evaluate $f$ there and use that value to take the step.\n",
    "$$\n",
    "  y_{n+1} = y_n + h\\,f\\left(t_n+\\frac{h}{2},y_n+\\frac{h}{2}f(t_n,y_n)\\right)\n",
    "$$\n",
    "We can write this in a way slightly more reminiscent of the Runge-Kutta family of integrators by saying\n",
    "$$\n",
    "  k_1 = f(t_n,y_n) \\quad , \\quad\n",
    "  y_{n+1} = y_n + h\\,f\\left(t_n+\\frac{1}{2}h,y_n+\\frac{1}{2}h\\,k_1\\right)\n",
    "$$"
   ]
  },
  {
   "cell_type": "markdown",
   "metadata": {},
   "source": [
    "### Heun's method ###\n",
    "\n",
    "A lesser known method, but one which feels very \"obvious\" in hindsight, is [Heun's method](https://en.wikipedia.org/wiki/Heun's_method#Runge.E2.80.93Kutta_method).  In this method we make an estimate of the slope at the beginning and end of the interval, average them and then take a step using that slope.  Specifically (in \"Runge-Kutta\" language):\n",
    "$$\n",
    "  k_1 = f(t_n,y_n) \\quad , \\quad\n",
    "  k_2 = f(t_n+h,y_n+hk_1) \\quad , \\quad\n",
    "  y_{n+1} = y_n + \\frac{h}{2}\\left(k_1+k_2\\right)\n",
    "$$"
   ]
  },
  {
   "cell_type": "markdown",
   "metadata": {},
   "source": [
    "### Test case ###\n",
    "\n",
    "Let's consider a simple numerical test.  We evolve\n",
    "$$\n",
    "  \\frac{d}{dt}\\left(\\begin{array}{c} y_1 \\\\ y_2\\end{array}\\right) =\n",
    "  \\left(\\begin{array}{c} -y_2 \\\\ y_1\\end{array}\\right)\n",
    "$$\n",
    "starting from $\\vec{y}(0)=[1,0]$.  This should give $\\vec{y}(t)=[\\cos(t),\\sin(t)]$, or a point in the 2D plane undergoing harmonic/circular motion.  We want to see how our integrators perform as a function of step size.\n",
    "\n",
    "The period of the orbit is $2\\pi$, and this will set the characteristic timescale.  We don't need to evolve the whole way, but we don't want to evolve to some super-special point like $\\pi/2$ or something either as this could be misleading.  Instead let's evolve to $t=1$."
   ]
  },
  {
   "cell_type": "code",
   "execution_count": 2,
   "metadata": {},
   "outputs": [],
   "source": [
    "def f(t,y):\n",
    "    \"\"\"The derivative function -- note this doesn't actually depend on t.\"\"\"\n",
    "    return(np.array([-y[1],y[0]]))"
   ]
  },
  {
   "cell_type": "code",
   "execution_count": 3,
   "metadata": {},
   "outputs": [],
   "source": [
    "def midpoint_step(t,y,h,f):\n",
    "    \"\"\"Takes one midpoint step, of size h.\"\"\"\n",
    "    h2 = 0.5*h\n",
    "    k1 = f(t,y)\n",
    "    dy = h*f(t+h2,y+h2*k1)\n",
    "    return(y+dy)"
   ]
  },
  {
   "cell_type": "code",
   "execution_count": 4,
   "metadata": {},
   "outputs": [],
   "source": [
    "def heun_step(t,y,h,f):\n",
    "    \"\"\"Takes one Heun step, of size h.\"\"\"\n",
    "    k1 = f(t,y)\n",
    "    k2 = f(t+h,y+h*k1)\n",
    "    dy = 0.5*h*(k1+k2)\n",
    "    return(y+dy)"
   ]
  },
  {
   "cell_type": "code",
   "execution_count": 5,
   "metadata": {},
   "outputs": [
    {
     "name": "stdout",
     "output_type": "stream",
     "text": [
      "t_final= 1.0\n",
      "y_exact= [0.54030231 0.84147098]\n",
      "y_midp = [0.53825088 0.84307436]\n",
      "y_heun = [0.53825088 0.84307436]\n"
     ]
    }
   ],
   "source": [
    "t0,t1 = 0.0,1.0\n",
    "tt,y0 = t0,np.array([1.0,0.0])\n",
    "yexact= y0.copy()\n",
    "ymidp = y0.copy()\n",
    "yheun = y0.copy()\n",
    "Nstep = 8\n",
    "hh    = (t1-t0)/Nstep\n",
    "#\n",
    "for i in range(Nstep):\n",
    "    yexact = np.array([np.cos(tt+hh),np.sin(tt+hh)])\n",
    "    ymidp  = midpoint_step(tt,ymidp,hh,f)\n",
    "    yheun  = heun_step(tt,yheun,hh,f)\n",
    "    tt     = tt + hh\n",
    "#\n",
    "print(\"t_final=\",tt)\n",
    "print(\"y_exact=\",yexact)\n",
    "print(\"y_midp =\",ymidp)\n",
    "print(\"y_heun =\",yheun)"
   ]
  },
  {
   "cell_type": "markdown",
   "metadata": {},
   "source": [
    "So both did pretty well, in fact they were essentially identical!  Why do you think this would be?  Let's look at convergence as a function of the number of steps."
   ]
  },
  {
   "cell_type": "code",
   "execution_count": 6,
   "metadata": {},
   "outputs": [
    {
     "name": "stdout",
     "output_type": "stream",
     "text": [
      "  2   [-0.04567315  0.03984572]   [-0.04567315  0.03984572]\n",
      "  4   [-0.01404123  0.00847481]   [-0.01404123  0.00847481]\n",
      "  8   [-0.00379681  0.00190544]   [-0.00379681  0.00190544]\n",
      " 16   [-0.00098247  0.00044786]   [-0.00098247  0.00044786]\n"
     ]
    }
   ],
   "source": [
    "for istep in range(1,5):\n",
    "    t0,t1 = 0.0,1.0\n",
    "    tt,y0 = t0,np.array([1.0,0.0])\n",
    "    yexact= y0.copy()\n",
    "    ymidp = y0.copy()\n",
    "    yheun = y0.copy()\n",
    "    Nstep = 2**istep\n",
    "    hh    = (t1-t0)/Nstep\n",
    "    for i in range(Nstep):\n",
    "        yexact = np.array([np.cos(tt+hh),np.sin(tt+hh)])\n",
    "        ymidp  = midpoint_step(tt,ymidp,hh,f)\n",
    "        yheun  = heun_step(tt,yheun,hh,f)\n",
    "        tt     = tt + hh\n",
    "    print(str(Nstep).rjust(3),\" \",(ymidp-yexact)/yexact,\\\n",
    "                              \" \",(yheun-yexact)/yexact)"
   ]
  },
  {
   "cell_type": "markdown",
   "metadata": {},
   "source": [
    "Note that the error should be going down as $h^2$, and it roughly is.  Doubling the number of steps halves the interval so the error should be about $4\\times$ as small each time.  Which is pretty close to right!\n",
    "\n",
    "What about if we change the problem?  Rather than an oscillating exponential, what if we go to something non-linear?  Let's try\n",
    "$$\n",
    "  \\frac{dy}{dt} = y^2 \\quad , \\quad y(0) = 1\n",
    "$$\n",
    "with solution $y(t) = (1-t)^{-1}$."
   ]
  },
  {
   "cell_type": "code",
   "execution_count": 7,
   "metadata": {},
   "outputs": [],
   "source": [
    "def f2(t,y):\n",
    "    \"\"\"The derivative function -- note this doesn't actually depend on t\n",
    "    and doesn't really need to be an array.\"\"\"\n",
    "    return(np.array([y[0]**2]))"
   ]
  },
  {
   "cell_type": "code",
   "execution_count": 8,
   "metadata": {},
   "outputs": [
    {
     "name": "stdout",
     "output_type": "stream",
     "text": [
      "  4   [-0.01672898]   [-0.01239795]\n",
      "  8   [-0.00496772]   [-0.00350953]\n",
      " 16   [-0.00135122]   [-0.00092843]\n",
      " 32   [-0.00035193]   [-0.00023826]\n"
     ]
    }
   ],
   "source": [
    "for istep in range(2,6):\n",
    "    t0,t1 = 0.0,0.5\n",
    "    tt,y0 = t0,np.array([1.0])\n",
    "    yexact= y0.copy()\n",
    "    ymidp = y0.copy()\n",
    "    yheun = y0.copy()\n",
    "    Nstep = 2**istep\n",
    "    hh    = (t1-t0)/Nstep\n",
    "    for i in range(Nstep):\n",
    "        yexact = np.array([1/(1-(tt+hh))])\n",
    "        ymidp  = midpoint_step(tt,ymidp,hh,f2)\n",
    "        yheun  = heun_step(tt,yheun,hh,f2)\n",
    "        tt     = tt + hh\n",
    "    print(str(Nstep).rjust(3),\" \",(ymidp-yexact)/yexact,\" \",\\\n",
    "                                  (yheun-yexact)/yexact)"
   ]
  },
  {
   "cell_type": "markdown",
   "metadata": {},
   "source": [
    "So in this case the Heun method performs slightly better than midpoint, though both are doing pretty well.  While there is no guarantee that Heun's method outperforms midpoint, it has been my experience that it often does.  So if you want a nice, low-order integrator then it's not a bad choice!"
   ]
  }
 ],
 "metadata": {
  "kernelspec": {
   "display_name": "Python 3",
   "language": "python",
   "name": "python3"
  },
  "language_info": {
   "codemirror_mode": {
    "name": "ipython",
    "version": 3
   },
   "file_extension": ".py",
   "mimetype": "text/x-python",
   "name": "python",
   "nbconvert_exporter": "python",
   "pygments_lexer": "ipython3",
   "version": "3.6.7"
  }
 },
 "nbformat": 4,
 "nbformat_minor": 2
}
