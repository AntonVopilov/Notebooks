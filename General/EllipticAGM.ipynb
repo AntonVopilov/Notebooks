{
 "cells": [
  {
   "cell_type": "code",
   "execution_count": 1,
   "metadata": {},
   "outputs": [],
   "source": [
    "import numpy as np\n",
    "import matplotlib.pyplot as plt\n",
    "%matplotlib inline"
   ]
  },
  {
   "cell_type": "markdown",
   "metadata": {},
   "source": [
    "## Elliptic Integrals and the AGM ##\n",
    "\n",
    "There is a fascinating connection between high precision elementary functions and the theory of elliptic integrals.  For more information take a look at [Borwein & Borwein  \"The arithmetic-geometric mean and fast computation of elementary functions\"; SIAM review 26, 351 (1984)](https://epubs.siam.org/doi/10.1137/1026073) or any one of several other nice articles online (e.g. the notes by Jameson, the book by Bowman or the articles by Newman)."
   ]
  },
  {
   "cell_type": "markdown",
   "metadata": {},
   "source": [
    "### Elliptic integrals ###\n",
    "\n",
    "We shall be interested here only in the complete [elliptic integrals](https://en.wikipedia.org/wiki/Elliptic_integral) of the first and second kind.  They show up in a lot of places, and can be very useful.  They are defined as\n",
    "$$\n",
    "  K(m) = \\int_0^{\\pi/2}\\frac{d\\theta}{\\sqrt{1-m\\sin^2\\theta}}\n",
    "$$\n",
    "and\n",
    "$$\n",
    "  E(m) = \\int_0^{\\pi/2}\\sqrt{1-m\\sin^2\\theta}\\,d\\theta\n",
    "$$\n",
    "The argument, $m$, is often written as $k^2$ and you would denote the function as e.g. $K(k)$."
   ]
  },
  {
   "cell_type": "code",
   "execution_count": 2,
   "metadata": {},
   "outputs": [
    {
     "data": {
      "text/plain": [
       "<matplotlib.legend.Legend at 0x7f3fb42d1828>"
      ]
     },
     "execution_count": 2,
     "metadata": {},
     "output_type": "execute_result"
    },
    {
     "data": {
      "image/png": "[encoded data removed]",
      "text/plain": [
       "<Figure size 432x288 with 1 Axes>"
      ]
     },
     "metadata": {
      "needs_background": "light"
     },
     "output_type": "display_data"
    }
   ],
   "source": [
    "# Let's plot these, using the in-built SciPy routines:\n",
    "from scipy.special import ellipk,ellipe\n",
    "#\n",
    "fig,ax = plt.subplots(1,1,figsize=(6,4))\n",
    "m = np.linspace(0,1,100,endpoint=False)\n",
    "ax.plot(m,ellipk(m),label=r'$K(m)$')\n",
    "ax.plot(m,ellipe(m),label=r'$E(m)$')\n",
    "ax.legend()\n",
    "#"
   ]
  },
  {
   "cell_type": "markdown",
   "metadata": {},
   "source": [
    "Of course we could alternatively evaluate these using direct quadratures.  The integrals are pretty well defined and the singularity in $K$ is reasonably weak.  However, we're interested in something deeper and more clever!  To see this let us introduce ..."
   ]
  },
  {
   "cell_type": "markdown",
   "metadata": {},
   "source": [
    "### The arithmetic-geometric mean (AGM) ###\n",
    "\n",
    "Define the \"arithmetic-geometric mean\" (AGM) of two positive numbers ($a>0$ and $b>0$) as the following iteration: starting from $a_0=a$ and $b_0=b$ iterate\n",
    "$$\n",
    "  a_{n+1} = \\frac{1}{2}\\left( a_n+b_n \\right) \\quad , \\quad\n",
    "  b_{n+1} = \\sqrt{a_nb_n}\n",
    "$$\n",
    "It takes only a little work to show $a_n$ and $b_n$ converge to a common limit.  If $a>b$ then $a_n$ always decreases while $b_n$ always increases.  In fact the convergence is very fast.  Specifically $c_n=\\sqrt{a_n^2-b_n^2}$ converges quadratically to zero as we now show.\n",
    "\n",
    "First note\n",
    "$$\n",
    "  c_{n+1}^2 = a_{n+1}^2-b_{n+1}^2 = \\frac{1}{4}\\left(a_n+b_n\\right)^2 - a_n b_n\n",
    "  = \\frac{1}{4}\\left(a_n-b_n\\right)^2\n",
    "  \\quad\\Rightarrow\\quad\n",
    "  c_{n+1} = \\frac{1}{2}\\left(a_n-b_n\\right)\n",
    "$$\n",
    "thus\n",
    "$$\n",
    "  c_n^2=(a_n+b_n)(a_n-b_n)=(2a_{n+1})(2c_{n+1})\n",
    "  \\quad\\Rightarrow\\quad\n",
    "  c_{n+1} = \\frac{c_n^2}{4a_{n+1}} \\le \\frac{c_n^2}{4b}\n",
    "$$\n",
    "\n",
    "As an aside, $c_n$ also allows us a way to \"reverse\" the AGM:\n",
    "$$\n",
    "  a_n = a_{n+1} + c_{n+1} \\quad , \\quad\n",
    "  b_n = a_{n+1} - c_{n+1}\n",
    "$$"
   ]
  },
  {
   "cell_type": "markdown",
   "metadata": {},
   "source": [
    "Gauss was the first to provide a way to compute elementary functions using algorithms that converged extremely rapidly (Newton's method already does this for algebraic functions).  He did this by showing\n",
    "$$\n",
    "  I(a,b) \\equiv \\int_0^{\\pi/2}\\frac{d\\theta}{\\sqrt{a^2\\cos^2\\theta+b^2\\sin^2\\theta}}\n",
    "  = \\frac{\\pi}{2{\\rm AGM}(a,b)}\n",
    "$$\n",
    "The proof just involves finding a nice variable substitution to convert $I(a,b)$ into $I([a+b]/2,\\sqrt{ab})$ and knowing $I(a,a)$.  Before we do that, let's note some properties of $I(a,b)$:\n",
    "\n",
    "1. $I(a,b) = I(b,a)$.\n",
    "2. $I(a,a) = \\pi/(2a)$.\n",
    "3. $I(ca,cb) = c^{-1}I(a,b)$.\n",
    "\n",
    "all of which are easily proved."
   ]
  },
  {
   "cell_type": "markdown",
   "metadata": {},
   "source": [
    "It will prove useful to rewrite $I(a,b)$ in two other ways, that can be accomplished by \"simple\" variable substitutions.  First by putting $x=b\\tan\\theta$ we have\n",
    "$$\n",
    "  I(a,b) = \\int_0^\\infty\\frac{dx}{\\sqrt{(x^2+a^2)(x^2+b^2)}}\n",
    "$$\n",
    "and second by using $x=1/y$ we have\n",
    "$$\n",
    "  I(a,b) = \\int_0^\\infty\\frac{dx}{\\sqrt{(1+a^2x^2)(1+b^2x^2)}}\n",
    "$$"
   ]
  },
  {
   "cell_type": "markdown",
   "metadata": {},
   "source": [
    "### Connection with the AGM ###\n",
    "\n",
    "Gauss was the first to note the connection of this integral to the AGM.  With the highly non-obvious variable transformation $y=(1/2)(x-ab/x)$ you can show\n",
    "$$\n",
    "  I(a,b) = I\\left(\\frac{a+b}{2},\\sqrt{ab}\\right)\n",
    "$$\n",
    "This means\n",
    "$$\n",
    "  I(a_0,b_0) = I(a_1,b_1) = \\lim_{n\\to\\infty} I(a_n,b_n) = I(M,M) = \\frac{\\pi}{2M}\n",
    "$$\n",
    "where $M$ is the AGM."
   ]
  },
  {
   "cell_type": "markdown",
   "metadata": {},
   "source": [
    "### Connection with elliptic integrals ###\n",
    "\n",
    "The integral $I(a,b)$ can be recast as the _complete elliptic integral of the first kind_, usually called $K$.  Trivially\n",
    "$$\n",
    "  K(b^2) = I(1,b)\n",
    "$$\n",
    "It turns out the integral can also be related to other special functions (and to the hypergeometric function), but that won't be of interest to us here."
   ]
  },
  {
   "cell_type": "markdown",
   "metadata": {},
   "source": [
    "### Connection with elementary functions ###\n",
    "\n",
    "To make the connection with $\\ln x$ and other elementary functions we need to consider $I(1,b)$ for small $b$.  As a first step we prove the non-obvious identity\n",
    "$$\n",
    "  \\int_0^{\\sqrt{ab}}\\frac{dx}{\\sqrt{(x^2+a^2)(x^2+b^2)}} =\n",
    "  \\int_{\\sqrt{ab}}^\\infty \\frac{dx}{\\sqrt{(x^2+a^2)(x^2+b^2)}}\n",
    "$$\n",
    "which actually follows quickly from the substitution $x=ab/y$.  This allows us to write\n",
    "$$\n",
    "  I(a,b) = 2 \\int_0^{\\sqrt{ab}} \\frac{dx}{\\sqrt{(x^2+a^2)(x^2+b^2)}}\n",
    "$$\n",
    "and now we can take $a=1$ and $b\\to 0^{+}$.  Note for $b\\ll 1$ the $x^2+a^2$ term is very close to $a^2=1$ so we have\n",
    "$$\n",
    "  I(1,b) \\approx 2\\int_0^{\\sqrt{b}}\\frac{dx}{\\sqrt{x^2+b^2}}\n",
    "  = 2 \\sinh^{-1} b^{-1/2} \\approx 2\\ln\\frac{2}{\\sqrt{b}}\n",
    "  = \\ln\\frac{4}{b}\n",
    "  \\quad\\mathrm{as}\\ b\\to 0^{+}\n",
    "$$"
   ]
  },
  {
   "cell_type": "markdown",
   "metadata": {},
   "source": [
    "So for sufficiently large $b^{-1}$ we can compute $\\ln 4b^{-1}$ using the AGM.  With a little rearranging and some careful attention to limits you can in fact show\n",
    "$$\n",
    "  \\left| \\ln(x) - \\left[ I(1,10^{-n})-I(1,10^{-n}x)\\right]\\right| < n 10^{-2(n-1)}\n",
    "$$\n",
    "for $0<x<1$ and $n\\ge 3$.  Thus we can compute $\\ln x$ exponentially quickly given the AGM method for computing $I(a,b)$.  Similar tricks give $\\exp(x)$ and hence $\\sin x$, $\\cos x$, $\\sinh x$, $\\cosh x$, etc."
   ]
  },
  {
   "cell_type": "markdown",
   "metadata": {},
   "source": [
    "As an example let us compute $\\ln x$ (for $x>1$) using the AGM.\n",
    "\n",
    "Since $I(1,b)\\approx\\ln 4/b$ for $b\\to 0^{+}$ we have $aI(a,1)\\approx\\ln 4a$ for $a\\to\\infty$.  To proceed, let us choose a large $n$ and write $4a=x^n$ which should be $\\gg 1$.  Then we have\n",
    "$$\n",
    "  I(a,1) = \\frac{\\pi}{2} / {\\rm AGM}(a,1)\n",
    "  \\quad\\Rightarrow\\quad\n",
    "  \\ln x \\approx \\frac{a}{n} I(a,1) = \\frac{a}{n}\\frac{\\pi/2}{{\\rm AGM}(a,1)}\n",
    "$$"
   ]
  },
  {
   "cell_type": "code",
   "execution_count": 3,
   "metadata": {},
   "outputs": [
    {
     "name": "stdout",
     "output_type": "stream",
     "text": [
      "Apprx= 0.1963375573558711184733443\n",
      "Apprx= 0.3866343221291927499772546\n",
      "Apprx= 0.6205278460870212204200192\n",
      "Apprx= 0.6909089259639392859153996\n",
      "Apprx= 0.6931453654660913415488173\n",
      "Apprx= 0.6931471811460922292996248\n",
      "Apprx= 0.6931471811472812665007319\n",
      "ln(2)= 0.6931471805599453094172321\n",
      "Error= -5.873359570834997955093773e-10\n",
      "Fractional error should be of order  9.31322574615478515625e-10\n"
     ]
    }
   ],
   "source": [
    "# Compute ln(2) using the AGM.  We will use the \"mpmath\" library\n",
    "# to do very high precision arithmetic, to show the convergence.\n",
    "from mpmath import mp\n",
    "mp.dps = 25\n",
    "# Compute ln(2) using the AGM.\n",
    "# Choose n=16, so that a = (1/4)2^16 = 2^14 = 16384.\n",
    "aa,enn= mp.mpf(16384.),mp.mpf(16.0)\n",
    "an,bn = mp.mpf(16384.),mp.mpf(1.00)\n",
    "for i in range(7):\n",
    "    an,bn = 0.5*(an+bn),mp.sqrt(an*bn)\n",
    "    approx= aa/enn * mp.pi/2/an\n",
    "    print(\"Apprx=\",approx)\n",
    "print(\"ln(2)=\",mp.log(2.0))\n",
    "print(\"Error=\",mp.log(2.0)-approx)\n",
    "print(\"Fractional error should be of order \",mp.mpf(4.0)/2.0**(2*enn))"
   ]
  },
  {
   "cell_type": "markdown",
   "metadata": {},
   "source": [
    "So we get part-per-billion accuracy in around 7 steps, just by averaging and taking square roots!"
   ]
  },
  {
   "cell_type": "markdown",
   "metadata": {},
   "source": [
    "### Elliptic functions ###\n",
    "\n",
    "So we know how to compute $K(m)$ using the AGM.  With a little bit of extra work you can \"hack\" the AGM iteration to compute $E(m)$ as well.  Then there are numerous identities which can help you get the third elliptic integral.  To complete the story, below is a function which computes $K$ and $E$:"
   ]
  },
  {
   "cell_type": "code",
   "execution_count": 4,
   "metadata": {},
   "outputs": [],
   "source": [
    "def elliptic_agm(m):\n",
    "    \"\"\"   \n",
    "    Uses the arithmetic-geometric mean (AGM) to compute the (complete)\n",
    "    elliptic integrals of the first (K) and second (E) kind for argument m\n",
    "    (which is sometimes denoted k^2).\n",
    "    \"\"\"\n",
    "    a = 0.5+0.5*np.sqrt(1-m)\n",
    "    c = m/(4*a)\n",
    "    t = np.log(c/(4*a))\n",
    "    s = a**2\n",
    "    f = 1.0\n",
    "    while c>1e-10:\n",
    "        v = (a+np.sqrt((a-c)*(a+c)))/2.0\n",
    "        t = t + np.log(a/v)/f\n",
    "        a = v\n",
    "        c = c**2/(4*a)\n",
    "        f = 2*f\n",
    "        s = s - f*c**2\n",
    "    ellipK = np.pi/(2*a)\n",
    "    ellipE = ellipK * s\n",
    "    return( (ellipK,ellipE) )\n",
    "    #"
   ]
  },
  {
   "cell_type": "code",
   "execution_count": 5,
   "metadata": {},
   "outputs": [
    {
     "name": "stdout",
     "output_type": "stream",
     "text": [
      "My K= 2.578092113348172 , trueK= 2.5780921133481733 , rel.err.= -5.551115123125783e-14 %\n",
      "My E= 1.104774732704073 , trueE= 1.1047747327040733 , rel.err.= -4.440892098500626e-14 %\n"
     ]
    }
   ],
   "source": [
    "myK,myE     = elliptic_agm(0.9)\n",
    "trueK,trueE = ellipk(0.9),ellipe(0.9)\n",
    "print(\"My K=\",myK,\", trueK=\",trueK,\", rel.err.=\",100*(myK/trueK-1),\"%\")\n",
    "print(\"My E=\",myE,\", trueE=\",trueE,\", rel.err.=\",100*(myE/trueE-1),\"%\")"
   ]
  },
  {
   "cell_type": "markdown",
   "metadata": {},
   "source": [
    "### Calculation of Pi using the Brent-Salamin Algorithm ###\n",
    "\n",
    "Let me end with a calculation of $\\pi$ using the Brent-Salamin algorithm (or the Gauss-Brent-Salamin algorithm, to be fair).\n",
    "\n",
    "The method for $\\pi$ is:\n",
    "1. Set $\\alpha_0=\\sqrt{2}$, $\\beta_0=0$ and $\\pi_0=2+\\sqrt{2}$.\n",
    "2. Iterate\n",
    "   * $\\alpha_{n+1} = \\frac{1}{2}\\left(\\alpha_n^{1/2}+\\alpha_n^{-1/2}\\right)$\n",
    "   * $\\beta_{n+1} = \\alpha_n^{1/2}\\left(\\frac{\\beta_n+1}{\\beta_n+\\alpha_n}\\right)$\n",
    "   * $\\pi_{n+1} = \\pi_n\\beta_{n+1}\\left(\\frac{1+\\alpha_{n+1}}{1+\\beta_{n+1}}\\right)$\n",
    "\n",
    "with $\\pi_n\\to\\pi$ as $n\\to\\infty$."
   ]
  },
  {
   "cell_type": "code",
   "execution_count": 6,
   "metadata": {},
   "outputs": [
    {
     "name": "stdout",
     "output_type": "stream",
     "text": [
      "3.1426067539416226007907198236183018919713562462772\n",
      "3.1415926609660442304977522351203396906792842568645\n",
      "3.1415926535897932386457739917571417940347896238675\n",
      "3.1415926535897932384626433832795028841972241204666\n",
      "3.1415926535897932384626433832795028841971693993751\n",
      "3.1415926535897932384626433832795028841971693993751\n"
     ]
    }
   ],
   "source": [
    "# Compute Pi to a ridiculous number of digits.\n",
    "from mpmath import mp\n",
    "mp.dps = 50\n",
    "#\n",
    "one   = mp.mpf(1.0)\n",
    "half  = mp.mpf(0.5)\n",
    "alpha = mp.sqrt(mp.mpf(2.0))\n",
    "beta  = mp.mpf(0.0)\n",
    "pi    = mp.mpf(2.0) + alpha\n",
    "#\n",
    "for iter in range(6):\n",
    "    aa    = alpha\n",
    "    rtalp = mp.sqrt(alpha)\n",
    "    alpha = half*(rtalp+one/rtalp)\n",
    "    beta  = rtalp*(one+beta)/(aa+beta)\n",
    "    pi    = pi*beta*(one+alpha)/(one+beta)\n",
    "    print(pi)"
   ]
  }
 ],
 "metadata": {
  "kernelspec": {
   "display_name": "Python 3",
   "language": "python",
   "name": "python3"
  },
  "language_info": {
   "codemirror_mode": {
    "name": "ipython",
    "version": 3
   },
   "file_extension": ".py",
   "mimetype": "text/x-python",
   "name": "python",
   "nbconvert_exporter": "python",
   "pygments_lexer": "ipython3",
   "version": "3.6.8"
  }
 },
 "nbformat": 4,
 "nbformat_minor": 2
}
