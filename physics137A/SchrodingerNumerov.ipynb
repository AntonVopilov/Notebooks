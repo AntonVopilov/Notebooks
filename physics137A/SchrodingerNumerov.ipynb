{
 "cells": [
  {
   "cell_type": "code",
   "execution_count": null,
   "metadata": {},
   "outputs": [],
   "source": [
    "import numpy as np\n",
    "import matplotlib.pyplot as plt\n",
    "%matplotlib inline"
   ]
  },
  {
   "cell_type": "markdown",
   "metadata": {},
   "source": [
    "## Solving the Schrodinger equation ##\n",
    "\n",
    "Here we give an example of numerically solving the Schrodinger equation using [Numerov's method](https://en.wikipedia.org/wiki/Numerov%27s_method).  We'll do the harmonic oscillator, which is something we can do entirely without numerical methods, just because it is so familiar.  We will use \"natural\" units ($\\hbar=m=1$) throughout."
   ]
  },
  {
   "cell_type": "code",
   "execution_count": null,
   "metadata": {},
   "outputs": [],
   "source": [
    "# Define the problem space:\n",
    "Lside = 2.0   # The length of the computation space, in natural units.\n",
    "N     = 2048  # The size of the grid.\n",
    "TOL   = 1e-4  # A numerical tolerance for convergence.\n",
    "\n",
    "# Set up some \"helper\" functions.\n",
    "def V(x):\n",
    "    \"\"\"Our potential -- a hamonic oscillator.\"\"\"\n",
    "    return( 0.5*x**2 )\n",
    "\n",
    "def posn(n):\n",
    "    \"\"\"Convert from grid position to x coordinate.\"\"\"\n",
    "    return( -Lside/2.0 + n*Lside/N )\n",
    "\n",
    "hh = posn(1) - posn(0)\n",
    "h2 = hh**2\n",
    "\n",
    "def keff2(E,x):\n",
    "    return( 2*(E-V(x)) )\n",
    "\n",
    "def psiup(n,E,psi1,psi2):\n",
    "    \"\"\"Compute Psi_n using the Numerov algorithm.  The second\n",
    "    derivative is approximated by finite difference but the\n",
    "    Psi^{(4)} correction term is included using the 2nd derivative\n",
    "    of the Schrodinger equation.\"\"\"\n",
    "    t    = 1./12.0\n",
    "    knm0 = keff2(E,posn(n-0))\n",
    "    knm1 = keff2(E,posn(n-1))\n",
    "    knm2 = keff2(E,posn(n-2))\n",
    "    psi  = 2*(1-5*t*h2*knm1)*psi1 - (1+t*h2*knm2)*psi2\n",
    "    psi /= 1+t*h2*knm0\n",
    "    return(psi)"
   ]
  },
  {
   "cell_type": "code",
   "execution_count": null,
   "metadata": {},
   "outputs": [],
   "source": [
    "# Code the Numerov solver.\n",
    "def numerov_solve(E):\n",
    "    \"\"\"Does Numerov until convergence.  This is coded very non-Pythonically,\n",
    "    but hopefully in a way that is clear.\"\"\"\n",
    "    psi    = np.zeros(N+1)\n",
    "    psi[0] = 0.0\n",
    "    psi[1] = 1e-10\n",
    "    for n in range(2,N+1):\n",
    "        psi[n] = psiup(n,E,psi[n-1],psi[n-2])\n",
    "    return( (np.max(psi),psi) )"
   ]
  },
  {
   "cell_type": "code",
   "execution_count": null,
   "metadata": {},
   "outputs": [],
   "source": [
    "# Now do an example of finding a solution for the energy eigenvalue\n",
    "# using a simple bisection algorithm.\n",
    "Emin,Emax = 0.0,2.0   # We know the energy is in this range.\n",
    "keepgoing = True\n",
    "while keepgoing:\n",
    "    E          = 0.5*(Emin+Emax)\n",
    "    psimax,psi = numerov_solve(E)\n",
    "    print(\"E={:12.4e}, Psi_max={:12.4e}, Psi[-1]={:12.4e} Psi_max\".\\\n",
    "          format(E,psimax,psi[-1]/psimax))\n",
    "    if psi[-1]<0:\n",
    "        Emax = E\n",
    "    elif psi[-1]>0:\n",
    "        Emin = E\n",
    "    keepgoing = np.abs(psi[-1])>TOL*psimax"
   ]
  }
 ],
 "metadata": {
  "kernelspec": {
   "display_name": "Python 3",
   "language": "python",
   "name": "python3"
  },
  "language_info": {
   "codemirror_mode": {
    "name": "ipython",
    "version": 3
   },
   "file_extension": ".py",
   "mimetype": "text/x-python",
   "name": "python",
   "nbconvert_exporter": "python",
   "pygments_lexer": "ipython3",
   "version": "3.6.7"
  }
 },
 "nbformat": 4,
 "nbformat_minor": 2
}
