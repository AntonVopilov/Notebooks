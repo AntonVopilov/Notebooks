{
 "cells": [
  {
   "cell_type": "code",
   "execution_count": null,
   "metadata": {},
   "outputs": [],
   "source": [
    "import numpy as np\n",
    "import matplotlib.pyplot as plt\n",
    "%matplotlib inline"
   ]
  },
  {
   "cell_type": "markdown",
   "metadata": {},
   "source": [
    "## Numerically evolve the time-dependent Schrodinger equation ##\n",
    "\n",
    "Here we use FFT methods to evolve the Schrodinger equation numerically.  We \"split\" the Hamiltonian into a piece depending only on momentum ($p^2/2m$) and a piece depending only on position ($V(x)$).  For each piece applying the appropriate operator is easy in the right basis/space.  So we just switch back and forth between position and momentum space.\n",
    "\n",
    "Specifically the \"evolution operator\" is\n",
    "$$\n",
    "  U = \\exp\\left[-iH\\Delta t\\right] =\n",
    "  \\exp[-i V \\Delta t/2]\n",
    "  \\exp\\left[-i \\frac{p^2}{2m} \\Delta t\\right]\n",
    "  \\exp[-i V \\Delta t/2] + \\mathcal{O}\\left(\\Delta t^2\\right)\n",
    "$$"
   ]
  },
  {
   "cell_type": "code",
   "execution_count": null,
   "metadata": {},
   "outputs": [],
   "source": [
    "# Consider a 1D line with periodic boundary conditions, so we can\n",
    "# use FFTs without having to worry about padding:\n",
    "N = 128  # The number of grid points.\n",
    "\n",
    "def potential():\n",
    "    \"\"\"Returns the potential on the grid.\"\"\"\n",
    "    n  = np.arange(N)\n",
    "    x  = (n-0.5*N)/N\n",
    "    Vx = 1-np.cos(2*np.pi*x)\n",
    "    return( (x,Vx) )"
   ]
  },
  {
   "cell_type": "code",
   "execution_count": null,
   "metadata": {},
   "outputs": [],
   "source": [
    "fig,ax = plt.subplots(1,1,figsize=(8,6))\n",
    "xx,Vx  = potential()\n",
    "ax.plot(xx,Vx)\n",
    "ax.set_xlabel(r'$x$')\n",
    "ax.set_ylabel(r'$V(x)$')"
   ]
  },
  {
   "cell_type": "code",
   "execution_count": null,
   "metadata": {},
   "outputs": [],
   "source": [
    "xx,Vx = potential()\n",
    "kk    = np.fft.fftfreq(N) * (2*np.pi)\n",
    "# Initialize Psi(x) to be a Gaussian at x=0, moving to the right.\n",
    "def set_ics():\n",
    "    \"\"\"Set up the initial conditions.\"\"\"\n",
    "    fx    = 20 * xx\n",
    "    x2    = xx**2\n",
    "    psi   = np.exp(-0.5*(xx/0.1)**2) * (np.cos(fx) - 1j * np.sin(fx))\n",
    "    # Normalize to a convenient value.\n",
    "    psi  /= np.sqrt( np.sum( np.abs(psi)**2 ) )\n",
    "    return(psi)\n",
    "#\n",
    "psi    = set_ics()\n",
    "fig,ax = plt.subplots(1,1,figsize=(8,6))\n",
    "ax.plot(xx,psi.real,'b-',label='Real')\n",
    "ax.plot(xx,psi.imag,'r:',label='Imag')\n",
    "ax.plot(xx,np.abs(psi)**2,'k-',label='Prob')\n",
    "ax.legend()\n",
    "ax.set_xlabel(r'$x$')\n",
    "ax.set_ylabel(r'$\\psi(x)$')"
   ]
  },
  {
   "cell_type": "code",
   "execution_count": null,
   "metadata": {},
   "outputs": [],
   "source": [
    "def se_evolve(psi,dt=0.01):\n",
    "    \"\"\"Evolve for one step.\"\"\"\n",
    "    psi *= np.exp( -1j * Vx * dt/2 )\n",
    "    #\n",
    "    tmp  = np.fft.fft(psi)\n",
    "    tmp *= np.exp( -1j * kk**2/2 * dt )\n",
    "    psi  = np.fft.ifft(tmp)\n",
    "    #\n",
    "    psi *= np.exp( -1j * Vx * dt/2 )\n",
    "    #\n",
    "    return(psi)"
   ]
  },
  {
   "cell_type": "code",
   "execution_count": null,
   "metadata": {},
   "outputs": [],
   "source": [
    "maxiter = 5000\n",
    "pltiter = 1000\n",
    "#\n",
    "fix,ax  = plt.subplots(1,1,figsize=(10,6))\n",
    "psi     = set_ics()\n",
    "for iter in range(maxiter):\n",
    "    psi = se_evolve(psi)\n",
    "    if iter%pltiter==0:\n",
    "        ax.plot(xx,np.abs(psi)**2,label=str(iter))\n",
    "ax.legend()\n",
    "ax.set_xlabel(r'$x$')\n",
    "ax.set_ylabel(r'Probability')\n",
    "print(\"Final probability is {:12.4e}\".format(np.sum(np.abs(psi)**2)))"
   ]
  }
 ],
 "metadata": {
  "kernelspec": {
   "display_name": "Python 3",
   "language": "python",
   "name": "python3"
  },
  "language_info": {
   "codemirror_mode": {
    "name": "ipython",
    "version": 3
   },
   "file_extension": ".py",
   "mimetype": "text/x-python",
   "name": "python",
   "nbconvert_exporter": "python",
   "pygments_lexer": "ipython3",
   "version": "3.6.7"
  }
 },
 "nbformat": 4,
 "nbformat_minor": 2
}
